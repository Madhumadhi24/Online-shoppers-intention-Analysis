{
 "cells": [
  {
   "cell_type": "markdown",
   "metadata": {},
   "source": [
    "The dataset consists of feature vectors belonging to 12,330 sessions. The dataset was formed so that each session would belong to a different user in a 1-year period to avoid any tendency to the specific campaign, special day, user profile, or period.\n",
    "\n",
    "Attribute Information:\n",
    "\n",
    "The dataset consists of 10 numerical and 8 categorical attributes. The 'Revenue' attribute can be used as the class label.\n",
    "\n",
    "\"Administrative\", \"Administrative Duration\", \"Informational\", \"Informational Duration\", \"Product Related\" and \"Product Related Duration\" represent the number of different types of pages visited by the visitor in that session and total time spent in each of these page categories. The values of these features are derived from the URL information of the pages visited by the user and updated in real time when a user takes an action, e.g. moving from one page to another. The \"Bounce Rate\", \"Exit Rate\" and \"Page Value\" features represent the metrics measured by \"Google Analytics\" for each page in the e-commerce site. The value of \"Bounce Rate\" feature for a web page refers to the percentage of visitors who enter the site from that page and then leave (\"bounce\") without triggering any other requests to the analytics server during that session. The value of \"Exit Rate\" feature for a specific web page is calculated as for all pageviews to the page, the percentage that were the last in the session. The \"Page Value\" feature represents the average value for a web page that a user visited before completing an e-commerce transaction. The \"Special Day\" feature indicates the closeness of the site visiting time to a specific special day (e.g. Mother’s Day, Valentine's Day) in which the sessions are more likely to be finalized with transaction. The value of this attribute is determined by considering the dynamics of e-commerce such as the duration between the order date and delivery date. For example, for Valentina’s day, this value takes a nonzero value between February 2 and February 12, zero before and after this date unless it is close to another special day, and its maximum value of 1 on February 8. The dataset also includes the operating system, browser, region, traffic type, visitor type as returning or new visitor, a Boolean value indicating whether the date of the visit is weekend, and month of the year.\n",
    "\n"
   ]
  },
  {
   "cell_type": "code",
   "execution_count": 79,
   "metadata": {},
   "outputs": [],
   "source": [
    "import numpy as np\n",
    "import pandas as pd\n",
    "import matplotlib.pyplot as plt\n",
    "#import seaborn as sns\n",
    "from sklearn.neighbors import KNeighborsClassifier\n",
    "from sklearn.model_selection import train_test_split\n",
    "from sklearn.preprocessing import StandardScaler"
   ]
  },
  {
   "cell_type": "code",
   "execution_count": 80,
   "metadata": {},
   "outputs": [],
   "source": [
    "#print all output\n",
    "from IPython.core.interactiveshell import InteractiveShell\n",
    "InteractiveShell.ast_node_interactivity = \"all\"\n",
    "\n",
    "#increase columns that can be printed to 300\n",
    "pd.set_option('display.max_columns', 300)"
   ]
  },
  {
   "cell_type": "code",
   "execution_count": 81,
   "metadata": {},
   "outputs": [],
   "source": [
    "\n",
    "OSI=pd.read_csv(\"Online Shoppers Intention.csv\")"
   ]
  },
  {
   "cell_type": "code",
   "execution_count": 82,
   "metadata": {},
   "outputs": [
    {
     "name": "stdout",
     "output_type": "stream",
     "text": [
      "<class 'pandas.core.frame.DataFrame'>\n",
      "RangeIndex: 12330 entries, 0 to 12329\n",
      "Data columns (total 18 columns):\n",
      "Administrative             12316 non-null float64\n",
      "Administrative_Duration    12316 non-null float64\n",
      "Informational              12316 non-null float64\n",
      "Informational_Duration     12316 non-null float64\n",
      "ProductRelated             12316 non-null float64\n",
      "ProductRelated_Duration    12316 non-null float64\n",
      "BounceRates                12316 non-null float64\n",
      "ExitRates                  12316 non-null float64\n",
      "PageValues                 12330 non-null float64\n",
      "SpecialDay                 12330 non-null float64\n",
      "Month                      12330 non-null object\n",
      "OperatingSystems           12330 non-null int64\n",
      "Browser                    12330 non-null int64\n",
      "Region                     12330 non-null int64\n",
      "TrafficType                12330 non-null int64\n",
      "VisitorType                12330 non-null object\n",
      "Weekend                    12330 non-null bool\n",
      "Revenue                    12330 non-null bool\n",
      "dtypes: bool(2), float64(10), int64(4), object(2)\n",
      "memory usage: 1.5+ MB\n"
     ]
    }
   ],
   "source": [
    "#Check for missing values:\n",
    "OSI.info()"
   ]
  },
  {
   "cell_type": "code",
   "execution_count": 83,
   "metadata": {},
   "outputs": [
    {
     "data": {
      "text/html": [
       "<div>\n",
       "<style scoped>\n",
       "    .dataframe tbody tr th:only-of-type {\n",
       "        vertical-align: middle;\n",
       "    }\n",
       "\n",
       "    .dataframe tbody tr th {\n",
       "        vertical-align: top;\n",
       "    }\n",
       "\n",
       "    .dataframe thead th {\n",
       "        text-align: right;\n",
       "    }\n",
       "</style>\n",
       "<table border=\"1\" class=\"dataframe\">\n",
       "  <thead>\n",
       "    <tr style=\"text-align: right;\">\n",
       "      <th></th>\n",
       "      <th>VisitorType</th>\n",
       "    </tr>\n",
       "    <tr>\n",
       "      <th>Month</th>\n",
       "      <th></th>\n",
       "    </tr>\n",
       "  </thead>\n",
       "  <tbody>\n",
       "    <tr>\n",
       "      <td>May</td>\n",
       "      <td>3045</td>\n",
       "    </tr>\n",
       "    <tr>\n",
       "      <td>Nov</td>\n",
       "      <td>2557</td>\n",
       "    </tr>\n",
       "    <tr>\n",
       "      <td>Mar</td>\n",
       "      <td>1675</td>\n",
       "    </tr>\n",
       "    <tr>\n",
       "      <td>Dec</td>\n",
       "      <td>1330</td>\n",
       "    </tr>\n",
       "    <tr>\n",
       "      <td>Oct</td>\n",
       "      <td>425</td>\n",
       "    </tr>\n",
       "    <tr>\n",
       "      <td>Jul</td>\n",
       "      <td>378</td>\n",
       "    </tr>\n",
       "    <tr>\n",
       "      <td>Aug</td>\n",
       "      <td>361</td>\n",
       "    </tr>\n",
       "    <tr>\n",
       "      <td>Sep</td>\n",
       "      <td>340</td>\n",
       "    </tr>\n",
       "    <tr>\n",
       "      <td>June</td>\n",
       "      <td>257</td>\n",
       "    </tr>\n",
       "    <tr>\n",
       "      <td>Feb</td>\n",
       "      <td>183</td>\n",
       "    </tr>\n",
       "  </tbody>\n",
       "</table>\n",
       "</div>"
      ],
      "text/plain": [
       "       VisitorType\n",
       "Month             \n",
       "May           3045\n",
       "Nov           2557\n",
       "Mar           1675\n",
       "Dec           1330\n",
       "Oct            425\n",
       "Jul            378\n",
       "Aug            361\n",
       "Sep            340\n",
       "June           257\n",
       "Feb            183"
      ]
     },
     "execution_count": 83,
     "metadata": {},
     "output_type": "execute_result"
    }
   ],
   "source": [
    "#Use Groupby statement to count the number of Returning_Visitor for each month. Which month has the highest returning visitors?\n",
    "\n",
    "#OSI[[\"VisitorType\",\"Month\"]] #subset of 2 columns\n",
    "#OSI.where(OSI['VisitorType'] == \"Returning_Visitor\") #where VisitorType=return.\n",
    "\n",
    "OSI.where(OSI['VisitorType'] == \"Returning_Visitor\")[[\"VisitorType\",\"Month\"]].groupby(\"Month\").count().sort_values('VisitorType', ascending=False)"
   ]
  },
  {
   "cell_type": "code",
   "execution_count": 84,
   "metadata": {},
   "outputs": [
    {
     "name": "stdout",
     "output_type": "stream",
     "text": [
      "<class 'pandas.core.frame.DataFrame'>\n",
      "Int64Index: 12316 entries, 0 to 12329\n",
      "Data columns (total 18 columns):\n",
      "Administrative             12316 non-null float64\n",
      "Administrative_Duration    12316 non-null float64\n",
      "Informational              12316 non-null float64\n",
      "Informational_Duration     12316 non-null float64\n",
      "ProductRelated             12316 non-null float64\n",
      "ProductRelated_Duration    12316 non-null float64\n",
      "BounceRates                12316 non-null float64\n",
      "ExitRates                  12316 non-null float64\n",
      "PageValues                 12316 non-null float64\n",
      "SpecialDay                 12316 non-null float64\n",
      "Month                      12316 non-null object\n",
      "OperatingSystems           12316 non-null int64\n",
      "Browser                    12316 non-null int64\n",
      "Region                     12316 non-null int64\n",
      "TrafficType                12316 non-null int64\n",
      "VisitorType                12316 non-null object\n",
      "Weekend                    12316 non-null bool\n",
      "Revenue                    12316 non-null bool\n",
      "dtypes: bool(2), float64(10), int64(4), object(2)\n",
      "memory usage: 1.6+ MB\n"
     ]
    }
   ],
   "source": [
    "#drop rows with any missing values\n",
    "OSI = OSI.dropna()\n",
    "OSI.info()"
   ]
  },
  {
   "cell_type": "code",
   "execution_count": 88,
   "metadata": {},
   "outputs": [
    {
     "data": {
      "text/html": [
       "<div>\n",
       "<style scoped>\n",
       "    .dataframe tbody tr th:only-of-type {\n",
       "        vertical-align: middle;\n",
       "    }\n",
       "\n",
       "    .dataframe tbody tr th {\n",
       "        vertical-align: top;\n",
       "    }\n",
       "\n",
       "    .dataframe thead th {\n",
       "        text-align: right;\n",
       "    }\n",
       "</style>\n",
       "<table border=\"1\" class=\"dataframe\">\n",
       "  <thead>\n",
       "    <tr style=\"text-align: right;\">\n",
       "      <th></th>\n",
       "      <th>Aug</th>\n",
       "      <th>Dec</th>\n",
       "      <th>Feb</th>\n",
       "      <th>Jul</th>\n",
       "      <th>June</th>\n",
       "      <th>Mar</th>\n",
       "      <th>May</th>\n",
       "      <th>Nov</th>\n",
       "      <th>Oct</th>\n",
       "      <th>Sep</th>\n",
       "    </tr>\n",
       "  </thead>\n",
       "  <tbody>\n",
       "    <tr>\n",
       "      <td>0</td>\n",
       "      <td>0</td>\n",
       "      <td>0</td>\n",
       "      <td>1</td>\n",
       "      <td>0</td>\n",
       "      <td>0</td>\n",
       "      <td>0</td>\n",
       "      <td>0</td>\n",
       "      <td>0</td>\n",
       "      <td>0</td>\n",
       "      <td>0</td>\n",
       "    </tr>\n",
       "    <tr>\n",
       "      <td>1</td>\n",
       "      <td>0</td>\n",
       "      <td>0</td>\n",
       "      <td>1</td>\n",
       "      <td>0</td>\n",
       "      <td>0</td>\n",
       "      <td>0</td>\n",
       "      <td>0</td>\n",
       "      <td>0</td>\n",
       "      <td>0</td>\n",
       "      <td>0</td>\n",
       "    </tr>\n",
       "    <tr>\n",
       "      <td>2</td>\n",
       "      <td>0</td>\n",
       "      <td>0</td>\n",
       "      <td>1</td>\n",
       "      <td>0</td>\n",
       "      <td>0</td>\n",
       "      <td>0</td>\n",
       "      <td>0</td>\n",
       "      <td>0</td>\n",
       "      <td>0</td>\n",
       "      <td>0</td>\n",
       "    </tr>\n",
       "    <tr>\n",
       "      <td>3</td>\n",
       "      <td>0</td>\n",
       "      <td>0</td>\n",
       "      <td>1</td>\n",
       "      <td>0</td>\n",
       "      <td>0</td>\n",
       "      <td>0</td>\n",
       "      <td>0</td>\n",
       "      <td>0</td>\n",
       "      <td>0</td>\n",
       "      <td>0</td>\n",
       "    </tr>\n",
       "    <tr>\n",
       "      <td>4</td>\n",
       "      <td>0</td>\n",
       "      <td>0</td>\n",
       "      <td>1</td>\n",
       "      <td>0</td>\n",
       "      <td>0</td>\n",
       "      <td>0</td>\n",
       "      <td>0</td>\n",
       "      <td>0</td>\n",
       "      <td>0</td>\n",
       "      <td>0</td>\n",
       "    </tr>\n",
       "  </tbody>\n",
       "</table>\n",
       "</div>"
      ],
      "text/plain": [
       "   Aug  Dec  Feb  Jul  June  Mar  May  Nov  Oct  Sep\n",
       "0    0    0    1    0     0    0    0    0    0    0\n",
       "1    0    0    1    0     0    0    0    0    0    0\n",
       "2    0    0    1    0     0    0    0    0    0    0\n",
       "3    0    0    1    0     0    0    0    0    0    0\n",
       "4    0    0    1    0     0    0    0    0    0    0"
      ]
     },
     "execution_count": 88,
     "metadata": {},
     "output_type": "execute_result"
    },
    {
     "data": {
      "text/html": [
       "<div>\n",
       "<style scoped>\n",
       "    .dataframe tbody tr th:only-of-type {\n",
       "        vertical-align: middle;\n",
       "    }\n",
       "\n",
       "    .dataframe tbody tr th {\n",
       "        vertical-align: top;\n",
       "    }\n",
       "\n",
       "    .dataframe thead th {\n",
       "        text-align: right;\n",
       "    }\n",
       "</style>\n",
       "<table border=\"1\" class=\"dataframe\">\n",
       "  <thead>\n",
       "    <tr style=\"text-align: right;\">\n",
       "      <th></th>\n",
       "      <th>Administrative</th>\n",
       "      <th>Administrative_Duration</th>\n",
       "      <th>Informational</th>\n",
       "      <th>Informational_Duration</th>\n",
       "      <th>ProductRelated</th>\n",
       "      <th>ProductRelated_Duration</th>\n",
       "      <th>BounceRates</th>\n",
       "      <th>ExitRates</th>\n",
       "      <th>PageValues</th>\n",
       "      <th>SpecialDay</th>\n",
       "      <th>Month</th>\n",
       "      <th>OperatingSystems</th>\n",
       "      <th>Browser</th>\n",
       "      <th>Region</th>\n",
       "      <th>TrafficType</th>\n",
       "      <th>VisitorType</th>\n",
       "      <th>Weekend</th>\n",
       "      <th>Revenue</th>\n",
       "      <th>Aug</th>\n",
       "      <th>Dec</th>\n",
       "      <th>Feb</th>\n",
       "      <th>Jul</th>\n",
       "      <th>June</th>\n",
       "      <th>Mar</th>\n",
       "      <th>May</th>\n",
       "      <th>Nov</th>\n",
       "      <th>Oct</th>\n",
       "      <th>Sep</th>\n",
       "    </tr>\n",
       "  </thead>\n",
       "  <tbody>\n",
       "    <tr>\n",
       "      <td>0</td>\n",
       "      <td>0.0</td>\n",
       "      <td>0.0</td>\n",
       "      <td>0.0</td>\n",
       "      <td>0.0</td>\n",
       "      <td>1.0</td>\n",
       "      <td>0.000000</td>\n",
       "      <td>0.20</td>\n",
       "      <td>0.20</td>\n",
       "      <td>0.0</td>\n",
       "      <td>0.0</td>\n",
       "      <td>Feb</td>\n",
       "      <td>1</td>\n",
       "      <td>1</td>\n",
       "      <td>1</td>\n",
       "      <td>1</td>\n",
       "      <td>Returning_Visitor</td>\n",
       "      <td>False</td>\n",
       "      <td>False</td>\n",
       "      <td>0</td>\n",
       "      <td>0</td>\n",
       "      <td>1</td>\n",
       "      <td>0</td>\n",
       "      <td>0</td>\n",
       "      <td>0</td>\n",
       "      <td>0</td>\n",
       "      <td>0</td>\n",
       "      <td>0</td>\n",
       "      <td>0</td>\n",
       "    </tr>\n",
       "    <tr>\n",
       "      <td>1</td>\n",
       "      <td>0.0</td>\n",
       "      <td>0.0</td>\n",
       "      <td>0.0</td>\n",
       "      <td>0.0</td>\n",
       "      <td>2.0</td>\n",
       "      <td>64.000000</td>\n",
       "      <td>0.00</td>\n",
       "      <td>0.10</td>\n",
       "      <td>0.0</td>\n",
       "      <td>0.0</td>\n",
       "      <td>Feb</td>\n",
       "      <td>2</td>\n",
       "      <td>2</td>\n",
       "      <td>1</td>\n",
       "      <td>2</td>\n",
       "      <td>Returning_Visitor</td>\n",
       "      <td>False</td>\n",
       "      <td>False</td>\n",
       "      <td>0</td>\n",
       "      <td>0</td>\n",
       "      <td>1</td>\n",
       "      <td>0</td>\n",
       "      <td>0</td>\n",
       "      <td>0</td>\n",
       "      <td>0</td>\n",
       "      <td>0</td>\n",
       "      <td>0</td>\n",
       "      <td>0</td>\n",
       "    </tr>\n",
       "    <tr>\n",
       "      <td>2</td>\n",
       "      <td>0.0</td>\n",
       "      <td>-1.0</td>\n",
       "      <td>0.0</td>\n",
       "      <td>-1.0</td>\n",
       "      <td>1.0</td>\n",
       "      <td>-1.000000</td>\n",
       "      <td>0.20</td>\n",
       "      <td>0.20</td>\n",
       "      <td>0.0</td>\n",
       "      <td>0.0</td>\n",
       "      <td>Feb</td>\n",
       "      <td>4</td>\n",
       "      <td>1</td>\n",
       "      <td>9</td>\n",
       "      <td>3</td>\n",
       "      <td>Returning_Visitor</td>\n",
       "      <td>False</td>\n",
       "      <td>False</td>\n",
       "      <td>0</td>\n",
       "      <td>0</td>\n",
       "      <td>1</td>\n",
       "      <td>0</td>\n",
       "      <td>0</td>\n",
       "      <td>0</td>\n",
       "      <td>0</td>\n",
       "      <td>0</td>\n",
       "      <td>0</td>\n",
       "      <td>0</td>\n",
       "    </tr>\n",
       "    <tr>\n",
       "      <td>3</td>\n",
       "      <td>0.0</td>\n",
       "      <td>0.0</td>\n",
       "      <td>0.0</td>\n",
       "      <td>0.0</td>\n",
       "      <td>2.0</td>\n",
       "      <td>2.666667</td>\n",
       "      <td>0.05</td>\n",
       "      <td>0.14</td>\n",
       "      <td>0.0</td>\n",
       "      <td>0.0</td>\n",
       "      <td>Feb</td>\n",
       "      <td>3</td>\n",
       "      <td>2</td>\n",
       "      <td>2</td>\n",
       "      <td>4</td>\n",
       "      <td>Returning_Visitor</td>\n",
       "      <td>False</td>\n",
       "      <td>False</td>\n",
       "      <td>0</td>\n",
       "      <td>0</td>\n",
       "      <td>1</td>\n",
       "      <td>0</td>\n",
       "      <td>0</td>\n",
       "      <td>0</td>\n",
       "      <td>0</td>\n",
       "      <td>0</td>\n",
       "      <td>0</td>\n",
       "      <td>0</td>\n",
       "    </tr>\n",
       "    <tr>\n",
       "      <td>4</td>\n",
       "      <td>0.0</td>\n",
       "      <td>0.0</td>\n",
       "      <td>0.0</td>\n",
       "      <td>0.0</td>\n",
       "      <td>10.0</td>\n",
       "      <td>627.500000</td>\n",
       "      <td>0.02</td>\n",
       "      <td>0.05</td>\n",
       "      <td>0.0</td>\n",
       "      <td>0.0</td>\n",
       "      <td>Feb</td>\n",
       "      <td>3</td>\n",
       "      <td>3</td>\n",
       "      <td>1</td>\n",
       "      <td>4</td>\n",
       "      <td>Returning_Visitor</td>\n",
       "      <td>True</td>\n",
       "      <td>False</td>\n",
       "      <td>0</td>\n",
       "      <td>0</td>\n",
       "      <td>1</td>\n",
       "      <td>0</td>\n",
       "      <td>0</td>\n",
       "      <td>0</td>\n",
       "      <td>0</td>\n",
       "      <td>0</td>\n",
       "      <td>0</td>\n",
       "      <td>0</td>\n",
       "    </tr>\n",
       "  </tbody>\n",
       "</table>\n",
       "</div>"
      ],
      "text/plain": [
       "   Administrative  Administrative_Duration  Informational  \\\n",
       "0             0.0                      0.0            0.0   \n",
       "1             0.0                      0.0            0.0   \n",
       "2             0.0                     -1.0            0.0   \n",
       "3             0.0                      0.0            0.0   \n",
       "4             0.0                      0.0            0.0   \n",
       "\n",
       "   Informational_Duration  ProductRelated  ProductRelated_Duration  \\\n",
       "0                     0.0             1.0                 0.000000   \n",
       "1                     0.0             2.0                64.000000   \n",
       "2                    -1.0             1.0                -1.000000   \n",
       "3                     0.0             2.0                 2.666667   \n",
       "4                     0.0            10.0               627.500000   \n",
       "\n",
       "   BounceRates  ExitRates  PageValues  SpecialDay Month  OperatingSystems  \\\n",
       "0         0.20       0.20         0.0         0.0   Feb                 1   \n",
       "1         0.00       0.10         0.0         0.0   Feb                 2   \n",
       "2         0.20       0.20         0.0         0.0   Feb                 4   \n",
       "3         0.05       0.14         0.0         0.0   Feb                 3   \n",
       "4         0.02       0.05         0.0         0.0   Feb                 3   \n",
       "\n",
       "   Browser  Region  TrafficType        VisitorType  Weekend  Revenue  Aug  \\\n",
       "0        1       1            1  Returning_Visitor    False    False    0   \n",
       "1        2       1            2  Returning_Visitor    False    False    0   \n",
       "2        1       9            3  Returning_Visitor    False    False    0   \n",
       "3        2       2            4  Returning_Visitor    False    False    0   \n",
       "4        3       1            4  Returning_Visitor     True    False    0   \n",
       "\n",
       "   Dec  Feb  Jul  June  Mar  May  Nov  Oct  Sep  \n",
       "0    0    1    0     0    0    0    0    0    0  \n",
       "1    0    1    0     0    0    0    0    0    0  \n",
       "2    0    1    0     0    0    0    0    0    0  \n",
       "3    0    1    0     0    0    0    0    0    0  \n",
       "4    0    1    0     0    0    0    0    0    0  "
      ]
     },
     "execution_count": 88,
     "metadata": {},
     "output_type": "execute_result"
    }
   ],
   "source": [
    "#(Part a) What would be a meaningful data transformation for column Month? (apply the data transformation on this dataset)\n",
    "\n",
    "#Month is currently 1 column with values like \"jan\". need to one-hot encode to get 12 columns each with 0/1 values.\n",
    "#can use get dummies to do this\n",
    "\n",
    "emb=pd.get_dummies(OSI['Month'],columns='Month')\n",
    "emb.head()\n",
    "\n",
    "OSI=pd.concat([OSI, emb], axis=1)\n",
    "OSI.head()\n",
    "\n",
    "OSI.drop(['Month'], axis=1, inplace=True) "
   ]
  },
  {
   "cell_type": "code",
   "execution_count": 89,
   "metadata": {},
   "outputs": [
    {
     "data": {
      "text/plain": [
       "array([False,  True])"
      ]
     },
     "execution_count": 89,
     "metadata": {},
     "output_type": "execute_result"
    },
    {
     "data": {
      "text/plain": [
       "0    False\n",
       "1    False\n",
       "2    False\n",
       "3    False\n",
       "4     True\n",
       "Name: Weekend, dtype: bool"
      ]
     },
     "execution_count": 89,
     "metadata": {},
     "output_type": "execute_result"
    },
    {
     "data": {
      "text/plain": [
       "array([0, 1], dtype=int64)"
      ]
     },
     "execution_count": 89,
     "metadata": {},
     "output_type": "execute_result"
    },
    {
     "data": {
      "text/plain": [
       "0    0\n",
       "1    0\n",
       "2    0\n",
       "3    0\n",
       "4    1\n",
       "Name: Weekend, dtype: int32"
      ]
     },
     "execution_count": 89,
     "metadata": {},
     "output_type": "execute_result"
    }
   ],
   "source": [
    "#(Part a) What would be a meaningful data transformation for column Weekend? (apply the data transformation on this dataset)\n",
    "\n",
    "#weekend has two values, so we can map those to 0/1\n",
    "OSI['Weekend'].unique()\n",
    "OSI.Weekend.head()\n",
    "\n",
    "#note that most text values being mapped to 0/1 would need to be inside quotation marks.  True and False are an exception.\n",
    "OSI['Weekend'] = OSI['Weekend'].map({True: 1, False: 0}).astype(int)\n",
    "\n",
    "OSI['Weekend'].unique()\n",
    "OSI.Weekend.head()\n",
    "\n",
    "\n"
   ]
  },
  {
   "cell_type": "code",
   "execution_count": 90,
   "metadata": {},
   "outputs": [
    {
     "data": {
      "text/plain": [
       "array([False,  True])"
      ]
     },
     "execution_count": 90,
     "metadata": {},
     "output_type": "execute_result"
    },
    {
     "data": {
      "text/plain": [
       "0    False\n",
       "1    False\n",
       "2    False\n",
       "3    False\n",
       "4    False\n",
       "Name: Revenue, dtype: bool"
      ]
     },
     "execution_count": 90,
     "metadata": {},
     "output_type": "execute_result"
    },
    {
     "data": {
      "text/plain": [
       "0    0\n",
       "1    0\n",
       "2    0\n",
       "3    0\n",
       "4    0\n",
       "Name: Revenue, dtype: int32"
      ]
     },
     "execution_count": 90,
     "metadata": {},
     "output_type": "execute_result"
    },
    {
     "data": {
      "text/plain": [
       "array([0, 1], dtype=int64)"
      ]
     },
     "execution_count": 90,
     "metadata": {},
     "output_type": "execute_result"
    }
   ],
   "source": [
    "#Part a) What would be a meaningful data transformation for column Revenue? (apply the data transformation on this dataset)\n",
    "\n",
    "#revenue also has T/F values, so use mapping to make binary\n",
    "OSI['Revenue'].unique()\n",
    "OSI.Revenue.head()\n",
    "\n",
    "OSI['Revenue']=OSI['Revenue'].map({True: 1, False: 0}).astype(int)\n",
    "\n",
    "OSI['Revenue'].head()\n",
    "OSI['Revenue'].unique()"
   ]
  },
  {
   "cell_type": "code",
   "execution_count": 91,
   "metadata": {},
   "outputs": [
    {
     "data": {
      "text/plain": [
       "0    Returning_Visitor\n",
       "1    Returning_Visitor\n",
       "2    Returning_Visitor\n",
       "3    Returning_Visitor\n",
       "4    Returning_Visitor\n",
       "Name: VisitorType, dtype: object"
      ]
     },
     "execution_count": 91,
     "metadata": {},
     "output_type": "execute_result"
    },
    {
     "data": {
      "text/plain": [
       "array(['Returning_Visitor', 'New_Visitor', 'Other'], dtype=object)"
      ]
     },
     "execution_count": 91,
     "metadata": {},
     "output_type": "execute_result"
    },
    {
     "data": {
      "text/plain": [
       "0    10537\n",
       "1     1694\n",
       "2       85\n",
       "Name: VisitorType, dtype: int64"
      ]
     },
     "execution_count": 91,
     "metadata": {},
     "output_type": "execute_result"
    }
   ],
   "source": [
    "#(Part a) In column VisitorType, map Returning_Visitor to 0, New_Visitor to 1 and , Other to 2. Which label (0, 1, or 2) has the highest number of instances in this dataset?\n",
    "\n",
    "OSI['VisitorType'].head()\n",
    "OSI['VisitorType'].unique()\n",
    "\n",
    "OSI['VisitorType']=OSI['VisitorType'].map({'Returning_Visitor':0, 'New_Visitor':1, 'Other':2})\n",
    "\n",
    "OSI['VisitorType'].value_counts()"
   ]
  },
  {
   "cell_type": "code",
   "execution_count": 119,
   "metadata": {
    "scrolled": true
   },
   "outputs": [
    {
     "data": {
      "text/html": [
       "<div>\n",
       "<style scoped>\n",
       "    .dataframe tbody tr th:only-of-type {\n",
       "        vertical-align: middle;\n",
       "    }\n",
       "\n",
       "    .dataframe tbody tr th {\n",
       "        vertical-align: top;\n",
       "    }\n",
       "\n",
       "    .dataframe thead th {\n",
       "        text-align: right;\n",
       "    }\n",
       "</style>\n",
       "<table border=\"1\" class=\"dataframe\">\n",
       "  <thead>\n",
       "    <tr style=\"text-align: right;\">\n",
       "      <th></th>\n",
       "      <th>Administrative</th>\n",
       "      <th>Administrative_Duration</th>\n",
       "      <th>Informational</th>\n",
       "      <th>Informational_Duration</th>\n",
       "      <th>ProductRelated</th>\n",
       "      <th>ProductRelated_Duration</th>\n",
       "      <th>BounceRates</th>\n",
       "      <th>ExitRates</th>\n",
       "      <th>PageValues</th>\n",
       "      <th>SpecialDay</th>\n",
       "      <th>OperatingSystems</th>\n",
       "      <th>Browser</th>\n",
       "      <th>Region</th>\n",
       "      <th>TrafficType</th>\n",
       "      <th>VisitorType</th>\n",
       "      <th>Weekend</th>\n",
       "      <th>Revenue</th>\n",
       "      <th>Aug</th>\n",
       "      <th>Dec</th>\n",
       "      <th>Feb</th>\n",
       "      <th>Jul</th>\n",
       "      <th>June</th>\n",
       "      <th>Mar</th>\n",
       "      <th>May</th>\n",
       "      <th>Nov</th>\n",
       "      <th>Oct</th>\n",
       "      <th>Sep</th>\n",
       "    </tr>\n",
       "  </thead>\n",
       "  <tbody>\n",
       "    <tr>\n",
       "      <td>0</td>\n",
       "      <td>0.0</td>\n",
       "      <td>0.0</td>\n",
       "      <td>0.0</td>\n",
       "      <td>0.0</td>\n",
       "      <td>1.0</td>\n",
       "      <td>0.000000</td>\n",
       "      <td>0.20</td>\n",
       "      <td>0.20</td>\n",
       "      <td>0.0</td>\n",
       "      <td>0.0</td>\n",
       "      <td>1</td>\n",
       "      <td>1</td>\n",
       "      <td>1</td>\n",
       "      <td>1</td>\n",
       "      <td>0</td>\n",
       "      <td>0</td>\n",
       "      <td>0</td>\n",
       "      <td>0</td>\n",
       "      <td>0</td>\n",
       "      <td>1</td>\n",
       "      <td>0</td>\n",
       "      <td>0</td>\n",
       "      <td>0</td>\n",
       "      <td>0</td>\n",
       "      <td>0</td>\n",
       "      <td>0</td>\n",
       "      <td>0</td>\n",
       "    </tr>\n",
       "    <tr>\n",
       "      <td>1</td>\n",
       "      <td>0.0</td>\n",
       "      <td>0.0</td>\n",
       "      <td>0.0</td>\n",
       "      <td>0.0</td>\n",
       "      <td>2.0</td>\n",
       "      <td>64.000000</td>\n",
       "      <td>0.00</td>\n",
       "      <td>0.10</td>\n",
       "      <td>0.0</td>\n",
       "      <td>0.0</td>\n",
       "      <td>2</td>\n",
       "      <td>2</td>\n",
       "      <td>1</td>\n",
       "      <td>2</td>\n",
       "      <td>0</td>\n",
       "      <td>0</td>\n",
       "      <td>0</td>\n",
       "      <td>0</td>\n",
       "      <td>0</td>\n",
       "      <td>1</td>\n",
       "      <td>0</td>\n",
       "      <td>0</td>\n",
       "      <td>0</td>\n",
       "      <td>0</td>\n",
       "      <td>0</td>\n",
       "      <td>0</td>\n",
       "      <td>0</td>\n",
       "    </tr>\n",
       "    <tr>\n",
       "      <td>2</td>\n",
       "      <td>0.0</td>\n",
       "      <td>-1.0</td>\n",
       "      <td>0.0</td>\n",
       "      <td>-1.0</td>\n",
       "      <td>1.0</td>\n",
       "      <td>-1.000000</td>\n",
       "      <td>0.20</td>\n",
       "      <td>0.20</td>\n",
       "      <td>0.0</td>\n",
       "      <td>0.0</td>\n",
       "      <td>4</td>\n",
       "      <td>1</td>\n",
       "      <td>9</td>\n",
       "      <td>3</td>\n",
       "      <td>0</td>\n",
       "      <td>0</td>\n",
       "      <td>0</td>\n",
       "      <td>0</td>\n",
       "      <td>0</td>\n",
       "      <td>1</td>\n",
       "      <td>0</td>\n",
       "      <td>0</td>\n",
       "      <td>0</td>\n",
       "      <td>0</td>\n",
       "      <td>0</td>\n",
       "      <td>0</td>\n",
       "      <td>0</td>\n",
       "    </tr>\n",
       "    <tr>\n",
       "      <td>3</td>\n",
       "      <td>0.0</td>\n",
       "      <td>0.0</td>\n",
       "      <td>0.0</td>\n",
       "      <td>0.0</td>\n",
       "      <td>2.0</td>\n",
       "      <td>2.666667</td>\n",
       "      <td>0.05</td>\n",
       "      <td>0.14</td>\n",
       "      <td>0.0</td>\n",
       "      <td>0.0</td>\n",
       "      <td>3</td>\n",
       "      <td>2</td>\n",
       "      <td>2</td>\n",
       "      <td>4</td>\n",
       "      <td>0</td>\n",
       "      <td>0</td>\n",
       "      <td>0</td>\n",
       "      <td>0</td>\n",
       "      <td>0</td>\n",
       "      <td>1</td>\n",
       "      <td>0</td>\n",
       "      <td>0</td>\n",
       "      <td>0</td>\n",
       "      <td>0</td>\n",
       "      <td>0</td>\n",
       "      <td>0</td>\n",
       "      <td>0</td>\n",
       "    </tr>\n",
       "    <tr>\n",
       "      <td>4</td>\n",
       "      <td>0.0</td>\n",
       "      <td>0.0</td>\n",
       "      <td>0.0</td>\n",
       "      <td>0.0</td>\n",
       "      <td>10.0</td>\n",
       "      <td>627.500000</td>\n",
       "      <td>0.02</td>\n",
       "      <td>0.05</td>\n",
       "      <td>0.0</td>\n",
       "      <td>0.0</td>\n",
       "      <td>3</td>\n",
       "      <td>3</td>\n",
       "      <td>1</td>\n",
       "      <td>4</td>\n",
       "      <td>0</td>\n",
       "      <td>1</td>\n",
       "      <td>0</td>\n",
       "      <td>0</td>\n",
       "      <td>0</td>\n",
       "      <td>1</td>\n",
       "      <td>0</td>\n",
       "      <td>0</td>\n",
       "      <td>0</td>\n",
       "      <td>0</td>\n",
       "      <td>0</td>\n",
       "      <td>0</td>\n",
       "      <td>0</td>\n",
       "    </tr>\n",
       "  </tbody>\n",
       "</table>\n",
       "</div>"
      ],
      "text/plain": [
       "   Administrative  Administrative_Duration  Informational  \\\n",
       "0             0.0                      0.0            0.0   \n",
       "1             0.0                      0.0            0.0   \n",
       "2             0.0                     -1.0            0.0   \n",
       "3             0.0                      0.0            0.0   \n",
       "4             0.0                      0.0            0.0   \n",
       "\n",
       "   Informational_Duration  ProductRelated  ProductRelated_Duration  \\\n",
       "0                     0.0             1.0                 0.000000   \n",
       "1                     0.0             2.0                64.000000   \n",
       "2                    -1.0             1.0                -1.000000   \n",
       "3                     0.0             2.0                 2.666667   \n",
       "4                     0.0            10.0               627.500000   \n",
       "\n",
       "   BounceRates  ExitRates  PageValues  SpecialDay  OperatingSystems  Browser  \\\n",
       "0         0.20       0.20         0.0         0.0                 1        1   \n",
       "1         0.00       0.10         0.0         0.0                 2        2   \n",
       "2         0.20       0.20         0.0         0.0                 4        1   \n",
       "3         0.05       0.14         0.0         0.0                 3        2   \n",
       "4         0.02       0.05         0.0         0.0                 3        3   \n",
       "\n",
       "   Region  TrafficType  VisitorType  Weekend  Revenue  Aug  Dec  Feb  Jul  \\\n",
       "0       1            1            0        0        0    0    0    1    0   \n",
       "1       1            2            0        0        0    0    0    1    0   \n",
       "2       9            3            0        0        0    0    0    1    0   \n",
       "3       2            4            0        0        0    0    0    1    0   \n",
       "4       1            4            0        1        0    0    0    1    0   \n",
       "\n",
       "   June  Mar  May  Nov  Oct  Sep  \n",
       "0     0    0    0    0    0    0  \n",
       "1     0    0    0    0    0    0  \n",
       "2     0    0    0    0    0    0  \n",
       "3     0    0    0    0    0    0  \n",
       "4     0    0    0    0    0    0  "
      ]
     },
     "execution_count": 119,
     "metadata": {},
     "output_type": "execute_result"
    }
   ],
   "source": [
    "OSI.head()"
   ]
  },
  {
   "cell_type": "code",
   "execution_count": 120,
   "metadata": {},
   "outputs": [
    {
     "name": "stderr",
     "output_type": "stream",
     "text": [
      "C:\\Users\\megan\\AppData\\Local\\Continuum\\anaconda3\\envs\\gpu_tf_conda_only\\lib\\site-packages\\ipykernel_launcher.py:11: FutureWarning: Method .as_matrix will be removed in a future version. Use .values instead.\n",
      "  # This is added back by InteractiveShellApp.init_path()\n",
      "C:\\Users\\megan\\AppData\\Local\\Continuum\\anaconda3\\envs\\gpu_tf_conda_only\\lib\\site-packages\\ipykernel_launcher.py:13: FutureWarning: Method .as_matrix will be removed in a future version. Use .values instead.\n",
      "  del sys.path[0]\n"
     ]
    }
   ],
   "source": [
    "#Q1 Part a) Consider the VisitorType as target value y. Use train_test_split to split the feature set into train and test. \n",
    "#Consider random_state = 0 and all the other default values. Then use MinMax Scaler to scale the data.\n",
    "#Train a KNeighborClassifier on dataset. \n",
    "#Which value of the hyperparame n_neighbors results in the worst overfitting problem?\n",
    "\n",
    "#drop any last null values\n",
    "#OSI_no_null = OSI.dropna()\n",
    "\n",
    "#creating X and y matrices\n",
    "OSI_X_Vars=OSI.drop(['VisitorType'], axis=1, inplace=False) \n",
    "X=OSI_X_Vars.as_matrix()\n",
    "\n",
    "y=OSI['VisitorType'].as_matrix()\n",
    "\n",
    "#splitting data\n",
    "from sklearn.model_selection import train_test_split\n",
    "X_train_org, X_test_org, y_train, y_test = train_test_split(X, y, random_state = 0)\n",
    "\n",
    "#Scaling data\n",
    "from sklearn.preprocessing import MinMaxScaler\n",
    "#sc.fit_transform: Fits transformer to X and y with optional parameters fit_params and returns a transformed version of X\n",
    "sc = MinMaxScaler()\n",
    "X_train = sc.fit_transform(X_train_org) #fit_transform is equivalent to first doing sc.fit() followed by sc.transform()\n",
    "#we dont want to use sc.fit on the test data set\n",
    "X_test = sc.transform(X_test_org)"
   ]
  },
  {
   "cell_type": "code",
   "execution_count": 121,
   "metadata": {},
   "outputs": [
    {
     "data": {
      "text/plain": [
       "KNeighborsClassifier(algorithm='auto', leaf_size=30, metric='minkowski',\n",
       "                     metric_params=None, n_jobs=None, n_neighbors=2, p=2,\n",
       "                     weights='uniform')"
      ]
     },
     "execution_count": 121,
     "metadata": {},
     "output_type": "execute_result"
    },
    {
     "data": {
      "text/plain": [
       "KNeighborsClassifier(algorithm='auto', leaf_size=30, metric='minkowski',\n",
       "                     metric_params=None, n_jobs=None, n_neighbors=3, p=2,\n",
       "                     weights='uniform')"
      ]
     },
     "execution_count": 121,
     "metadata": {},
     "output_type": "execute_result"
    },
    {
     "data": {
      "text/plain": [
       "KNeighborsClassifier(algorithm='auto', leaf_size=30, metric='minkowski',\n",
       "                     metric_params=None, n_jobs=None, n_neighbors=10, p=2,\n",
       "                     weights='uniform')"
      ]
     },
     "execution_count": 121,
     "metadata": {},
     "output_type": "execute_result"
    },
    {
     "data": {
      "text/plain": [
       "KNeighborsClassifier(algorithm='auto', leaf_size=30, metric='minkowski',\n",
       "                     metric_params=None, n_jobs=None, n_neighbors=15, p=2,\n",
       "                     weights='uniform')"
      ]
     },
     "execution_count": 121,
     "metadata": {},
     "output_type": "execute_result"
    },
    {
     "data": {
      "text/plain": [
       "KNeighborsClassifier(algorithm='auto', leaf_size=30, metric='minkowski',\n",
       "                     metric_params=None, n_jobs=None, n_neighbors=20, p=2,\n",
       "                     weights='uniform')"
      ]
     },
     "execution_count": 121,
     "metadata": {},
     "output_type": "execute_result"
    },
    {
     "data": {
      "text/plain": [
       "[<matplotlib.lines.Line2D at 0x1ac09c663c8>]"
      ]
     },
     "execution_count": 121,
     "metadata": {},
     "output_type": "execute_result"
    },
    {
     "data": {
      "text/plain": [
       "[<matplotlib.lines.Line2D at 0x1ac09ad2888>]"
      ]
     },
     "execution_count": 121,
     "metadata": {},
     "output_type": "execute_result"
    },
    {
     "data": {
      "text/plain": [
       "Text(0.5, 0, 'k')"
      ]
     },
     "execution_count": 121,
     "metadata": {},
     "output_type": "execute_result"
    },
    {
     "data": {
      "text/plain": [
       "Text(0, 0.5, 'Accuracy')"
      ]
     },
     "execution_count": 121,
     "metadata": {},
     "output_type": "execute_result"
    },
    {
     "data": {
      "text/plain": [
       "<matplotlib.legend.Legend at 0x1ac1ae49a08>"
      ]
     },
     "execution_count": 121,
     "metadata": {},
     "output_type": "execute_result"
    },
    {
     "data": {
      "image/png": "[encoded data removed]",
      "text/plain": [
       "<Figure size 432x288 with 1 Axes>"
      ]
     },
     "metadata": {
      "needs_background": "light"
     },
     "output_type": "display_data"
    }
   ],
   "source": [
    "#Training KNN on the data\n",
    "from sklearn.neighbors import KNeighborsClassifier\n",
    "\n",
    "train_score_array = []\n",
    "test_score_array = []\n",
    "neighbors = [2, 3, 10, 15, 20]\n",
    "\n",
    "for k in neighbors:\n",
    "    knn = KNeighborsClassifier(k)\n",
    "    knn.fit(X_train, y_train)\n",
    "    train_score_array.append(knn.score(X_train, y_train))\n",
    "    test_score_array.append(knn.score(X_test, y_test))\n",
    "\n",
    "#best num of nieghbors here:want both test and train high and smallest diff bw them. \n",
    "x_axis = [2, 3, 10, 15, 20]\n",
    "%matplotlib inline\n",
    "plt.plot(x_axis, train_score_array, label = 'Train Score', c = 'g',  marker='o',)\n",
    "plt.plot(x_axis, test_score_array, label = 'Test Score', c='b',  marker='o',)\n",
    "plt.xlabel('k')\n",
    "plt.ylabel('Accuracy')\n",
    "plt.legend()\n",
    "\n",
    "\n",
    "#worst overfitting occurs at __ because __"
   ]
  },
  {
   "cell_type": "code",
   "execution_count": 122,
   "metadata": {},
   "outputs": [
    {
     "data": {
      "text/plain": [
       "LinearSVC(C=0.01, class_weight=None, dual=False, fit_intercept=True,\n",
       "          intercept_scaling=1, loss='squared_hinge', max_iter=10000,\n",
       "          multi_class='ovr', penalty='l2', random_state=0, tol=0.0001,\n",
       "          verbose=0)"
      ]
     },
     "execution_count": 122,
     "metadata": {},
     "output_type": "execute_result"
    },
    {
     "data": {
      "text/plain": [
       "LinearSVC(C=0.1, class_weight=None, dual=False, fit_intercept=True,\n",
       "          intercept_scaling=1, loss='squared_hinge', max_iter=10000,\n",
       "          multi_class='ovr', penalty='l2', random_state=0, tol=0.0001,\n",
       "          verbose=0)"
      ]
     },
     "execution_count": 122,
     "metadata": {},
     "output_type": "execute_result"
    },
    {
     "data": {
      "text/plain": [
       "LinearSVC(C=1, class_weight=None, dual=False, fit_intercept=True,\n",
       "          intercept_scaling=1, loss='squared_hinge', max_iter=10000,\n",
       "          multi_class='ovr', penalty='l2', random_state=0, tol=0.0001,\n",
       "          verbose=0)"
      ]
     },
     "execution_count": 122,
     "metadata": {},
     "output_type": "execute_result"
    },
    {
     "data": {
      "text/plain": [
       "LinearSVC(C=10, class_weight=None, dual=False, fit_intercept=True,\n",
       "          intercept_scaling=1, loss='squared_hinge', max_iter=10000,\n",
       "          multi_class='ovr', penalty='l2', random_state=0, tol=0.0001,\n",
       "          verbose=0)"
      ]
     },
     "execution_count": 122,
     "metadata": {},
     "output_type": "execute_result"
    },
    {
     "data": {
      "text/plain": [
       "[<matplotlib.lines.Line2D at 0x1ac09ce68c8>]"
      ]
     },
     "execution_count": 122,
     "metadata": {},
     "output_type": "execute_result"
    },
    {
     "data": {
      "text/plain": [
       "[<matplotlib.lines.Line2D at 0x1ac1aa54a88>]"
      ]
     },
     "execution_count": 122,
     "metadata": {},
     "output_type": "execute_result"
    },
    {
     "data": {
      "text/plain": [
       "Text(0.5, 0, 'C')"
      ]
     },
     "execution_count": 122,
     "metadata": {},
     "output_type": "execute_result"
    },
    {
     "data": {
      "text/plain": [
       "Text(0, 0.5, 'Accuracy')"
      ]
     },
     "execution_count": 122,
     "metadata": {},
     "output_type": "execute_result"
    },
    {
     "data": {
      "text/plain": [
       "<matplotlib.legend.Legend at 0x1ac09c98748>"
      ]
     },
     "execution_count": 122,
     "metadata": {},
     "output_type": "execute_result"
    },
    {
     "data": {
      "image/png": "[encoded data removed]",
      "text/plain": [
       "<Figure size 432x288 with 1 Axes>"
      ]
     },
     "metadata": {
      "needs_background": "light"
     },
     "output_type": "display_data"
    }
   ],
   "source": [
    "#Q2 (Part a) Train LinearSVC model on this dataset. Fine tune this model by changing the hyperparameter C in [0.01, 0.1, 1, 10]. \n",
    "#Which value of C results in a best fit. Consider the following hyper parameters:\n",
    "#random_state = 0\n",
    "#penalty = 'l2'\n",
    "#dual = False\n",
    "#max_iter = 10000\n",
    "\n",
    "%matplotlib inline\n",
    "from mlxtend.plotting import plot_decision_regions\n",
    "from sklearn.svm import LinearSVC\n",
    "\n",
    "train_score_array = []\n",
    "test_score_array = []\n",
    "C_params = [0.01, 0.1, 1, 10]\n",
    "\n",
    "for C in C_params:\n",
    "    clf = LinearSVC(random_state = 0, penalty = 'l2', dual = False, max_iter = 10000, C=C)\n",
    "    clf.fit(X_train,y_train)\n",
    "    train_score_array.append(clf.score(X_train, y_train))\n",
    "    test_score_array.append(clf.score(X_test, y_test))\n",
    "\n",
    "#best num of nieghbors here:want both test and train high and smallest diff bw them. \n",
    "x_axis = [0.01, 0.1, 1, 10]\n",
    "%matplotlib inline\n",
    "plt.plot(x_axis, train_score_array, label = 'Train Score', c = 'g',  marker='o',)\n",
    "plt.plot(x_axis, test_score_array, label = 'Test Score', c='b',  marker='o',)\n",
    "plt.xlabel('C')\n",
    "plt.ylabel('Accuracy')\n",
    "plt.legend()\n",
    "\n",
    "\n",
    "#not working currently, but normally you would want to graph what the decision boundry looks like.\n",
    "#note that you can only plot 2 predictor features at any given time. we are using X_train[:,0:2] to plot the first 2 features of Xtrain\n",
    "#plot_decision_regions(X_train[:,0:2], y_train, clf)\n",
    "#plt.xlabel(\"Feature 0\")\n",
    "#plt.ylabel(\"Feature 1\")\n",
    "#recall we set visitor types as 'Returning_Visitor':0, 'New_Visitor':1, 'Other':2\n",
    "#plt.legend(['Returning_Visitor', 'New_Visitor', 'Other'])"
   ]
  },
  {
   "cell_type": "code",
   "execution_count": 123,
   "metadata": {},
   "outputs": [
    {
     "data": {
      "text/plain": [
       "0    10537\n",
       "1     1694\n",
       "2       85\n",
       "Name: VisitorType, dtype: int64"
      ]
     },
     "execution_count": 123,
     "metadata": {},
     "output_type": "execute_result"
    },
    {
     "name": "stderr",
     "output_type": "stream",
     "text": [
      "C:\\Users\\megan\\AppData\\Local\\Continuum\\anaconda3\\envs\\gpu_tf_conda_only\\lib\\site-packages\\sklearn\\linear_model\\logistic.py:469: FutureWarning: Default multi_class will be changed to 'auto' in 0.22. Specify the multi_class option to silence this warning.\n",
      "  \"this warning.\", FutureWarning)\n"
     ]
    },
    {
     "data": {
      "text/plain": [
       "LogisticRegression(C=0.1, class_weight=None, dual=False, fit_intercept=True,\n",
       "                   intercept_scaling=1, l1_ratio=None, max_iter=100,\n",
       "                   multi_class='warn', n_jobs=None, penalty='l1',\n",
       "                   random_state=0, solver='liblinear', tol=0.0001, verbose=0,\n",
       "                   warm_start=False)"
      ]
     },
     "execution_count": 123,
     "metadata": {},
     "output_type": "execute_result"
    },
    {
     "name": "stderr",
     "output_type": "stream",
     "text": [
      "C:\\Users\\megan\\AppData\\Local\\Continuum\\anaconda3\\envs\\gpu_tf_conda_only\\lib\\site-packages\\sklearn\\linear_model\\logistic.py:469: FutureWarning: Default multi_class will be changed to 'auto' in 0.22. Specify the multi_class option to silence this warning.\n",
      "  \"this warning.\", FutureWarning)\n"
     ]
    },
    {
     "data": {
      "text/plain": [
       "LogisticRegression(C=0.1, class_weight=None, dual=False, fit_intercept=True,\n",
       "                   intercept_scaling=1, l1_ratio=None, max_iter=100,\n",
       "                   multi_class='warn', n_jobs=None, penalty='l2',\n",
       "                   random_state=0, solver='liblinear', tol=0.0001, verbose=0,\n",
       "                   warm_start=False)"
      ]
     },
     "execution_count": 123,
     "metadata": {},
     "output_type": "execute_result"
    },
    {
     "name": "stderr",
     "output_type": "stream",
     "text": [
      "C:\\Users\\megan\\AppData\\Local\\Continuum\\anaconda3\\envs\\gpu_tf_conda_only\\lib\\site-packages\\sklearn\\linear_model\\logistic.py:469: FutureWarning: Default multi_class will be changed to 'auto' in 0.22. Specify the multi_class option to silence this warning.\n",
      "  \"this warning.\", FutureWarning)\n"
     ]
    },
    {
     "data": {
      "text/plain": [
       "LogisticRegression(C=1, class_weight=None, dual=False, fit_intercept=True,\n",
       "                   intercept_scaling=1, l1_ratio=None, max_iter=100,\n",
       "                   multi_class='warn', n_jobs=None, penalty='l1',\n",
       "                   random_state=0, solver='liblinear', tol=0.0001, verbose=0,\n",
       "                   warm_start=False)"
      ]
     },
     "execution_count": 123,
     "metadata": {},
     "output_type": "execute_result"
    },
    {
     "name": "stderr",
     "output_type": "stream",
     "text": [
      "C:\\Users\\megan\\AppData\\Local\\Continuum\\anaconda3\\envs\\gpu_tf_conda_only\\lib\\site-packages\\sklearn\\linear_model\\logistic.py:469: FutureWarning: Default multi_class will be changed to 'auto' in 0.22. Specify the multi_class option to silence this warning.\n",
      "  \"this warning.\", FutureWarning)\n"
     ]
    },
    {
     "data": {
      "text/plain": [
       "LogisticRegression(C=1, class_weight=None, dual=False, fit_intercept=True,\n",
       "                   intercept_scaling=1, l1_ratio=None, max_iter=100,\n",
       "                   multi_class='warn', n_jobs=None, penalty='l2',\n",
       "                   random_state=0, solver='liblinear', tol=0.0001, verbose=0,\n",
       "                   warm_start=False)"
      ]
     },
     "execution_count": 123,
     "metadata": {},
     "output_type": "execute_result"
    },
    {
     "name": "stderr",
     "output_type": "stream",
     "text": [
      "C:\\Users\\megan\\AppData\\Local\\Continuum\\anaconda3\\envs\\gpu_tf_conda_only\\lib\\site-packages\\sklearn\\linear_model\\logistic.py:469: FutureWarning: Default multi_class will be changed to 'auto' in 0.22. Specify the multi_class option to silence this warning.\n",
      "  \"this warning.\", FutureWarning)\n"
     ]
    },
    {
     "data": {
      "text/plain": [
       "LogisticRegression(C=10, class_weight=None, dual=False, fit_intercept=True,\n",
       "                   intercept_scaling=1, l1_ratio=None, max_iter=100,\n",
       "                   multi_class='warn', n_jobs=None, penalty='l1',\n",
       "                   random_state=0, solver='liblinear', tol=0.0001, verbose=0,\n",
       "                   warm_start=False)"
      ]
     },
     "execution_count": 123,
     "metadata": {},
     "output_type": "execute_result"
    },
    {
     "name": "stderr",
     "output_type": "stream",
     "text": [
      "C:\\Users\\megan\\AppData\\Local\\Continuum\\anaconda3\\envs\\gpu_tf_conda_only\\lib\\site-packages\\sklearn\\linear_model\\logistic.py:469: FutureWarning: Default multi_class will be changed to 'auto' in 0.22. Specify the multi_class option to silence this warning.\n",
      "  \"this warning.\", FutureWarning)\n"
     ]
    },
    {
     "data": {
      "text/plain": [
       "LogisticRegression(C=10, class_weight=None, dual=False, fit_intercept=True,\n",
       "                   intercept_scaling=1, l1_ratio=None, max_iter=100,\n",
       "                   multi_class='warn', n_jobs=None, penalty='l2',\n",
       "                   random_state=0, solver='liblinear', tol=0.0001, verbose=0,\n",
       "                   warm_start=False)"
      ]
     },
     "execution_count": 123,
     "metadata": {},
     "output_type": "execute_result"
    },
    {
     "data": {
      "text/plain": [
       "[<matplotlib.lines.Line2D at 0x1ac227274c8>]"
      ]
     },
     "execution_count": 123,
     "metadata": {},
     "output_type": "execute_result"
    },
    {
     "data": {
      "text/plain": [
       "[<matplotlib.lines.Line2D at 0x1ac09b948c8>]"
      ]
     },
     "execution_count": 123,
     "metadata": {},
     "output_type": "execute_result"
    },
    {
     "data": {
      "text/plain": [
       "[<matplotlib.lines.Line2D at 0x1ac2274d048>]"
      ]
     },
     "execution_count": 123,
     "metadata": {},
     "output_type": "execute_result"
    },
    {
     "data": {
      "text/plain": [
       "[<matplotlib.lines.Line2D at 0x1ac226e5b88>]"
      ]
     },
     "execution_count": 123,
     "metadata": {},
     "output_type": "execute_result"
    },
    {
     "data": {
      "text/plain": [
       "<matplotlib.legend.Legend at 0x1ac22744748>"
      ]
     },
     "execution_count": 123,
     "metadata": {},
     "output_type": "execute_result"
    },
    {
     "data": {
      "text/plain": [
       "Text(0.5, 0, 'Regularization parameter: C')"
      ]
     },
     "execution_count": 123,
     "metadata": {},
     "output_type": "execute_result"
    },
    {
     "data": {
      "text/plain": [
       "Text(0, 0.5, 'Accuracy')"
      ]
     },
     "execution_count": 123,
     "metadata": {},
     "output_type": "execute_result"
    },
    {
     "data": {
      "image/png": "[encoded data removed]",
      "text/plain": [
       "<Figure size 432x288 with 1 Axes>"
      ]
     },
     "metadata": {
      "needs_background": "light"
     },
     "output_type": "display_data"
    }
   ],
   "source": [
    "#Q4 (Part a) Train a LogisticRegression model. \n",
    "#Among values C in [0.1, 1, 10] and penalty in ['l1', 'l2'], which combination will give the best fit? \n",
    "#(set random_state = 0 and solver = 'liblinear')\n",
    "\n",
    "\n",
    "#minmax scaler is also appropriate for logistic regression so scaling is already appropriate\n",
    "\n",
    "#how balanced is the dataset?\n",
    "OSI['VisitorType'].value_counts()\n",
    "\n",
    "from sklearn.linear_model import LogisticRegression\n",
    "\n",
    "\n",
    "#c is coefficient of costfunction.  changing its value can increase or decrease the impact of the regularization term.\n",
    "#penalty term/regularization term is made up of C*lasso term or C*ridge term.\n",
    "\n",
    "c_range = [0.1, 1, 10]\n",
    "train_score_l1 = []\n",
    "train_score_l2 = []\n",
    "test_score_l1 = []\n",
    "test_score_l2 = []\n",
    "\n",
    "\n",
    "#note: homework instructions say to use liblinear algoritm but this algorithm doesnt apply to multinomial case..\n",
    "for c in c_range:\n",
    "    log_l1 = LogisticRegression(random_state=0, solver='liblinear', penalty = 'l1', C = c)#instantiate model\n",
    "    log_l2 = LogisticRegression(random_state=0, solver='liblinear', penalty = 'l2', C = c)#these are using lbgfs by default\n",
    "    log_l1.fit(X_train, y_train) #train the model\n",
    "    log_l2.fit(X_train, y_train)\n",
    "    train_score_l1.append(log_l1.score(X_train, y_train)) #see performance\n",
    "    train_score_l2.append(log_l2.score(X_train, y_train))\n",
    "    test_score_l1.append(log_l1.score(X_test, y_test))\n",
    "    test_score_l2.append(log_l2.score(X_test, y_test))\n",
    "    \n",
    "\n",
    "import matplotlib.pyplot as plt\n",
    "%matplotlib inline\n",
    "\n",
    "plt.plot(c_range, train_score_l1, label = 'Train score, penalty = l1')\n",
    "plt.plot(c_range, test_score_l1, label = 'Test score, penalty = l1')\n",
    "plt.plot(c_range, train_score_l2, label = 'Train score, penalty = l2')\n",
    "plt.plot(c_range, test_score_l2, label = 'Test score, penalty = l2')\n",
    "plt.legend()\n",
    "plt.xlabel('Regularization parameter: C')\n",
    "plt.ylabel('Accuracy')\n",
    "plt.xscale('log')"
   ]
  },
  {
   "cell_type": "code",
   "execution_count": 124,
   "metadata": {},
   "outputs": [
    {
     "data": {
      "text/plain": [
       "DecisionTreeClassifier(class_weight=None, criterion='gini', max_depth=1,\n",
       "                       max_features=None, max_leaf_nodes=None,\n",
       "                       min_impurity_decrease=0.0, min_impurity_split=None,\n",
       "                       min_samples_leaf=1, min_samples_split=2,\n",
       "                       min_weight_fraction_leaf=0.0, presort=False,\n",
       "                       random_state=0, splitter='best')"
      ]
     },
     "execution_count": 124,
     "metadata": {},
     "output_type": "execute_result"
    },
    {
     "data": {
      "text/plain": [
       "DecisionTreeClassifier(class_weight=None, criterion='gini', max_depth=2,\n",
       "                       max_features=None, max_leaf_nodes=None,\n",
       "                       min_impurity_decrease=0.0, min_impurity_split=None,\n",
       "                       min_samples_leaf=1, min_samples_split=2,\n",
       "                       min_weight_fraction_leaf=0.0, presort=False,\n",
       "                       random_state=0, splitter='best')"
      ]
     },
     "execution_count": 124,
     "metadata": {},
     "output_type": "execute_result"
    },
    {
     "data": {
      "text/plain": [
       "DecisionTreeClassifier(class_weight=None, criterion='gini', max_depth=3,\n",
       "                       max_features=None, max_leaf_nodes=None,\n",
       "                       min_impurity_decrease=0.0, min_impurity_split=None,\n",
       "                       min_samples_leaf=1, min_samples_split=2,\n",
       "                       min_weight_fraction_leaf=0.0, presort=False,\n",
       "                       random_state=0, splitter='best')"
      ]
     },
     "execution_count": 124,
     "metadata": {},
     "output_type": "execute_result"
    },
    {
     "data": {
      "text/plain": [
       "DecisionTreeClassifier(class_weight=None, criterion='gini', max_depth=5,\n",
       "                       max_features=None, max_leaf_nodes=None,\n",
       "                       min_impurity_decrease=0.0, min_impurity_split=None,\n",
       "                       min_samples_leaf=1, min_samples_split=2,\n",
       "                       min_weight_fraction_leaf=0.0, presort=False,\n",
       "                       random_state=0, splitter='best')"
      ]
     },
     "execution_count": 124,
     "metadata": {},
     "output_type": "execute_result"
    },
    {
     "data": {
      "text/plain": [
       "DecisionTreeClassifier(class_weight=None, criterion='gini', max_depth=10,\n",
       "                       max_features=None, max_leaf_nodes=None,\n",
       "                       min_impurity_decrease=0.0, min_impurity_split=None,\n",
       "                       min_samples_leaf=1, min_samples_split=2,\n",
       "                       min_weight_fraction_leaf=0.0, presort=False,\n",
       "                       random_state=0, splitter='best')"
      ]
     },
     "execution_count": 124,
     "metadata": {},
     "output_type": "execute_result"
    },
    {
     "data": {
      "text/plain": [
       "[<matplotlib.lines.Line2D at 0x1ac00154b88>]"
      ]
     },
     "execution_count": 124,
     "metadata": {},
     "output_type": "execute_result"
    },
    {
     "data": {
      "text/plain": [
       "[<matplotlib.lines.Line2D at 0x1ac09ccd1c8>]"
      ]
     },
     "execution_count": 124,
     "metadata": {},
     "output_type": "execute_result"
    },
    {
     "data": {
      "text/plain": [
       "Text(0.5, 0, 'Max Depth')"
      ]
     },
     "execution_count": 124,
     "metadata": {},
     "output_type": "execute_result"
    },
    {
     "data": {
      "text/plain": [
       "Text(0, 0.5, 'Accuracy')"
      ]
     },
     "execution_count": 124,
     "metadata": {},
     "output_type": "execute_result"
    },
    {
     "data": {
      "text/plain": [
       "<matplotlib.legend.Legend at 0x1ac0014d848>"
      ]
     },
     "execution_count": 124,
     "metadata": {},
     "output_type": "execute_result"
    },
    {
     "data": {
      "image/png": "[encoded data removed]",
      "text/plain": [
       "<Figure size 432x288 with 1 Axes>"
      ]
     },
     "metadata": {
      "needs_background": "light"
     },
     "output_type": "display_data"
    }
   ],
   "source": [
    "#Q5 (Part a) Train a DecisionTreeClassifier model on this dataset. \n",
    "#Which max_depth in [1, 2, 3, 5, 10] results in the best fit? \n",
    "#(choose the value that both train and test scores are high and the gap between train and test score is small. \n",
    "#Set random_state = 0).\n",
    "\n",
    "%matplotlib notebook\n",
    "from sklearn.tree import DecisionTreeClassifier\n",
    "\n",
    "#dtree = DecisionTreeClassifier(random_state=0)\n",
    "#dtree.fit(X_train, y_train)\n",
    "#print(\"Accuracy on training set: {:.3f}\".format(dtree.score(X_train, y_train)))\n",
    "#print(\"Accuracy on test set: {:.3f}\".format(dtree.score(X_test, y_test)))\n",
    "\n",
    "\n",
    "\n",
    "train_score_array = []\n",
    "test_score_array = []\n",
    "max_d = [1, 2, 3, 5, 10]\n",
    "\n",
    "for i in max_d:\n",
    "    dtree = DecisionTreeClassifier(random_state=0, max_depth=i)\n",
    "    dtree.fit(X_train,y_train)\n",
    "    train_score_array.append(dtree.score(X_train, y_train))\n",
    "    test_score_array.append(dtree.score(X_test, y_test))\n",
    "\n",
    "#best num of nieghbors here:want both test and train high and smallest diff bw them. \n",
    "x_axis = [1, 2, 3, 5, 10]\n",
    "%matplotlib inline\n",
    "plt.plot(x_axis, train_score_array, label = 'Train Score', c = 'g',  marker='o',)\n",
    "plt.plot(x_axis, test_score_array, label = 'Test Score', c='b',  marker='o',)\n",
    "plt.xlabel('Max Depth')\n",
    "plt.ylabel('Accuracy')\n",
    "plt.legend()"
   ]
  },
  {
   "cell_type": "code",
   "execution_count": 125,
   "metadata": {},
   "outputs": [
    {
     "data": {
      "image/png": "[encoded data removed]",
      "text/plain": [
       "<Figure size 432x288 with 1 Axes>"
      ]
     },
     "metadata": {
      "needs_background": "light"
     },
     "output_type": "display_data"
    }
   ],
   "source": [
    "#Q6 Part a) Consider the max_depth in the previous question. \n",
    "#Which feature is the most important feature according to DecisionTreeClassifier model?\n",
    "\n",
    "\n",
    "%matplotlib inline\n",
    "def plot_feature_importances(model):\n",
    "    n_features = X_train.shape[1] #num of columns\n",
    "    plt.barh(range(n_features), model.feature_importances_, align='center')\n",
    "    plt.yticks(np.arange(n_features), OSI_X_Vars.columns)\n",
    "    plt.xlabel(\"Feature importance\")\n",
    "    plt.ylabel(\"Feature\")\n",
    "    plt.ylim(-1, n_features)\n",
    "    \n",
    "\n",
    "plot_feature_importances(dtree)"
   ]
  },
  {
   "cell_type": "code",
   "execution_count": 126,
   "metadata": {},
   "outputs": [
    {
     "data": {
      "text/plain": [
       "LinearSVC(C=0.01, class_weight=None, dual=False, fit_intercept=True,\n",
       "          intercept_scaling=1, loss='squared_hinge', max_iter=10000,\n",
       "          multi_class='ovr', penalty='l2', random_state=0, tol=0.0001,\n",
       "          verbose=0)"
      ]
     },
     "execution_count": 126,
     "metadata": {},
     "output_type": "execute_result"
    },
    {
     "data": {
      "text/plain": [
       "0.8572047201472339"
      ]
     },
     "execution_count": 126,
     "metadata": {},
     "output_type": "execute_result"
    },
    {
     "data": {
      "text/plain": [
       "0.850925625202988"
      ]
     },
     "execution_count": 126,
     "metadata": {},
     "output_type": "execute_result"
    }
   ],
   "source": [
    "OSI['VisitorType']=OSI['VisitorType'].map({'Returning_Visitor':0, 'New_Visitor':1, 'Other':2})\n",
    "\n",
    "\n",
    "clf = LinearSVC(random_state = 0, penalty = 'l2', dual = False, max_iter = 10000, C=.01)\n",
    "clf.fit(X_train,y_train)\n",
    "clf.score(X_train, y_train)\n",
    "clf.score(X_test, y_test)\n",
    "\n",
    "\n"
   ]
  },
  {
   "cell_type": "code",
   "execution_count": 127,
   "metadata": {},
   "outputs": [
    {
     "data": {
      "text/plain": [
       "array(['0', '0', '0', ..., '0', '0', '1'], dtype='<U21')"
      ]
     },
     "execution_count": 127,
     "metadata": {},
     "output_type": "execute_result"
    },
    {
     "data": {
      "text/plain": [
       "0    10537\n",
       "1     1694\n",
       "2       85\n",
       "dtype: int64"
      ]
     },
     "execution_count": 127,
     "metadata": {},
     "output_type": "execute_result"
    },
    {
     "data": {
      "text/plain": [
       "0.13754465735628452"
      ]
     },
     "execution_count": 127,
     "metadata": {},
     "output_type": "execute_result"
    }
   ],
   "source": [
    "#Q1 (Part a) What is the ratio of label 1 to all the labels in the whole dataset? (consider four significant digits)\n",
    "\n",
    "#there are 3 classes in the dependent variable.\n",
    "y.astype('str')\n",
    "\n",
    "pd.Series(y.astype('str')).value_counts() #finding frequency of each value\n",
    "\n",
    "total_rows=len(y)\n",
    "\n",
    "ratio_of_label1_to_overall_dataset=1694/total_rows\n",
    "\n",
    "ratio_of_label1_to_overall_dataset"
   ]
  },
  {
   "cell_type": "code",
   "execution_count": 128,
   "metadata": {},
   "outputs": [
    {
     "data": {
      "text/plain": [
       "LogisticRegression(C=1.0, class_weight=None, dual=False, fit_intercept=True,\n",
       "                   intercept_scaling=1, l1_ratio=None, max_iter=10000,\n",
       "                   multi_class='auto', n_jobs=None, penalty='l2',\n",
       "                   random_state=0, solver='lbfgs', tol=0.0001, verbose=0,\n",
       "                   warm_start=False)"
      ]
     },
     "execution_count": 128,
     "metadata": {},
     "output_type": "execute_result"
    },
    {
     "name": "stdout",
     "output_type": "stream",
     "text": [
      "Macro average train precision score: 0.83885\n"
     ]
    }
   ],
   "source": [
    "from sklearn.metrics import precision_score\n",
    "#Q2 (Part a) Train a LogisticRegression model on this dataset. Set the hyper-parameters as follow. \n",
    "# random_state = 0\n",
    "# solver = 'lbfgs'\n",
    "# max_iter = 10000\n",
    "# multi_class = 'auto'\n",
    "#What is the train macro precision score? (with four significant digits)\n",
    "\n",
    "#The model:\n",
    "model = LogisticRegression(solver=\"lbfgs\", random_state=0, max_iter=10000, multi_class='auto')  #show its multinomial by setting multi_class while using log reg.  #lbfgs uses entropy as part of algorithm.\n",
    "model.fit(X_train, y_train)\n",
    "\n",
    "train_pred = model.predict(X_train)\n",
    "\n",
    "#train macro precision score\n",
    "print(\"Macro average train precision score: {:.5f}\".format\n",
    "(precision_score(y_train, train_pred, average=\"macro\")))"
   ]
  },
  {
   "cell_type": "code",
   "execution_count": 129,
   "metadata": {},
   "outputs": [
    {
     "data": {
      "text/plain": [
       "LogisticRegression(C=1.0, class_weight=None, dual=False, fit_intercept=True,\n",
       "                   intercept_scaling=1, l1_ratio=None, max_iter=10000,\n",
       "                   multi_class='auto', n_jobs=None, penalty='l2',\n",
       "                   random_state=0, solver='lbfgs', tol=0.0001, verbose=0,\n",
       "                   warm_start=False)"
      ]
     },
     "execution_count": 129,
     "metadata": {},
     "output_type": "execute_result"
    },
    {
     "name": "stdout",
     "output_type": "stream",
     "text": [
      "Macro average train precision score: 0.86294\n"
     ]
    }
   ],
   "source": [
    "#Q3 (Part a) Train a LogisticRegression model on this dataset. \n",
    "#Set the hyper-parameters as follow. What is the train micro recall score? (with four significant digits)\n",
    "# random_state = 0\n",
    "# solver = 'lbfgs'\n",
    "# max_iter = 10000\n",
    "# multi_class = 'auto'\n",
    "\n",
    "from sklearn.metrics import recall_score\n",
    "\n",
    "#The model:\n",
    "model = LogisticRegression(solver=\"lbfgs\", random_state=0, max_iter=10000, multi_class='auto')  #show its multinomial by setting multi_class while using log reg.  #lbfgs uses entropy as part of algorithm.\n",
    "model.fit(X_train, y_train)\n",
    "\n",
    "train_pred = model.predict(X_train)\n",
    "\n",
    "#train macro precision score\n",
    "print(\"Macro average train precision score: {:.5f}\".format\n",
    "(recall_score(y_train, train_pred, average=\"micro\")))\n"
   ]
  },
  {
   "cell_type": "code",
   "execution_count": 130,
   "metadata": {},
   "outputs": [
    {
     "data": {
      "text/plain": [
       "DummyClassifier(constant=None, random_state=None, strategy='most_frequent')"
      ]
     },
     "execution_count": 130,
     "metadata": {},
     "output_type": "execute_result"
    },
    {
     "name": "stdout",
     "output_type": "stream",
     "text": [
      "Unique predicted labels: [0]\n",
      "Train Accuracy score: 0.85710\n",
      "Train Accuracy score: 0.85710\n"
     ]
    }
   ],
   "source": [
    "from sklearn.metrics import accuracy_score\n",
    "\n",
    "#Q4 (Part a) Train a dummy classifier that classifies everything as the majority class of the training data. \n",
    "#What is the train accuracy of this classifier? (numbers with four significant digits)\n",
    "from sklearn.dummy import DummyClassifier\n",
    "\n",
    "dummy_majority = DummyClassifier(strategy='most_frequent')\n",
    "dummy_majority.fit(X_train, y_train)\n",
    "\n",
    "\n",
    "train_pred = dummy_majority.predict(X_train)\n",
    "\n",
    "#0 is the most frequent label, so all predictions are 0\n",
    "print(\"Unique predicted labels: {}\".format(np.unique(train_pred)))\n",
    "\n",
    "\n",
    "#Two ways to calculate accuracy:\n",
    "print(\"Train Accuracy score: {:.5f}\".format\n",
    "(accuracy_score(y_train, train_pred)))\n",
    "\n",
    "print(\"Train Accuracy score: {:.5f}\".format(dummy_majority.score(X_train, y_train)))\n",
    "\n",
    "\n"
   ]
  },
  {
   "cell_type": "code",
   "execution_count": 131,
   "metadata": {},
   "outputs": [
    {
     "data": {
      "text/plain": [
       "SVC(C=10, cache_size=200, class_weight=None, coef0=0.0,\n",
       "    decision_function_shape='ovr', degree=3, gamma=1, kernel='rbf', max_iter=-1,\n",
       "    probability=False, random_state=0, shrinking=True, tol=0.001,\n",
       "    verbose=False)"
      ]
     },
     "execution_count": 131,
     "metadata": {},
     "output_type": "execute_result"
    },
    {
     "data": {
      "text/plain": [
       "Text(0.5, 1.0, 'Confusion matrix')"
      ]
     },
     "execution_count": 131,
     "metadata": {},
     "output_type": "execute_result"
    },
    {
     "data": {
      "text/plain": [
       "0.6507936507936508"
      ]
     },
     "execution_count": 131,
     "metadata": {},
     "output_type": "execute_result"
    },
    {
     "data": {
      "image/png": "[encoded data removed]",
      "text/plain": [
       "<Figure size 432x288 with 1 Axes>"
      ]
     },
     "metadata": {
      "needs_background": "light"
     },
     "output_type": "display_data"
    }
   ],
   "source": [
    "#Q5 (Part a) Train a SVC(kernel = 'rbf', C = 10, gamma= 1) on the train dataset. \n",
    "#Create the confusion matrix of this classification. \n",
    "#What percentage of instances with label 2 has been predicted correctly using this classification model? \n",
    "#(Enter the value with 4 significant digits.)\n",
    "\n",
    "#note: this question is asking for train score performance\n",
    "\n",
    "from sklearn.svm import SVC\n",
    "import mglearn\n",
    "from sklearn.metrics import confusion_matrix\n",
    "\n",
    "#The model\n",
    "model=SVC(kernel='rbf', C=10, gamma=1, random_state=0)\n",
    "model.fit(X_train, y_train)\n",
    "\n",
    "\n",
    "\n",
    "train_pred = model.predict(X_train)\n",
    "#confusion matrix\n",
    "#A great model would show a dark diagonal, indicating that the majority of the points were predicted as thier true class\n",
    "scores_image = mglearn.tools.heatmap(\n",
    "    confusion_matrix(y_train, train_pred), xlabel='Predicted label',\n",
    "    ylabel='True label', xticklabels=['0','1', '2'],\n",
    "    yticklabels=['0','1', '2'], cmap=plt.cm.gray_r, fmt=\"%d\")\n",
    "plt.title(\"Confusion matrix\")\n",
    "plt.gca().invert_yaxis()\n",
    "\n",
    "\n",
    "41/(22+41)\n",
    "\n",
    "#If the question was for test performance, this would be the code:\n",
    "# #predictions\n",
    "# test_pred = model.predict(X_test)\n",
    "# #confusion matrix\n",
    "# #A great model would show a dark diagonal, indicating that the majority of the points were predicted as thier true class\n",
    "# scores_image = mglearn.tools.heatmap(\n",
    "#     confusion_matrix(y_test, test_pred), xlabel='Predicted label',\n",
    "#     ylabel='True label', xticklabels=['0','1', '2'],\n",
    "#     yticklabels=['0','1', '2'], cmap=plt.cm.gray_r, fmt=\"%d\")\n",
    "# plt.title(\"Confusion matrix\")\n",
    "# plt.gca().invert_yaxis()\n",
    "# instances_with_label2=22\n",
    "# instances_correctly_predicted_as_2=10\n",
    "# instances_correctly_predicted_as_2/instances_with_label2"
   ]
  },
  {
   "cell_type": "code",
   "execution_count": 132,
   "metadata": {},
   "outputs": [
    {
     "data": {
      "text/plain": [
       "GridSearchCV(cv=5, error_score='raise-deprecating',\n",
       "             estimator=SVC(C=1.0, cache_size=200, class_weight=None, coef0=0.0,\n",
       "                           decision_function_shape='ovr', degree=3,\n",
       "                           gamma='auto_deprecated', kernel='rbf', max_iter=-1,\n",
       "                           probability=False, random_state=0, shrinking=True,\n",
       "                           tol=0.001, verbose=False),\n",
       "             iid='warn', n_jobs=None,\n",
       "             param_grid={'C': [0.1, 1, 10], 'gamma': [0.1, 1, 10]},\n",
       "             pre_dispatch='2*n_jobs', refit=True, return_train_score=True,\n",
       "             scoring=None, verbose=0)"
      ]
     },
     "execution_count": 132,
     "metadata": {},
     "output_type": "execute_result"
    },
    {
     "name": "stdout",
     "output_type": "stream",
     "text": [
      "{'C': 1, 'gamma': 0.1}\n",
      "0.8614268701959511\n",
      "<function _passthrough_scorer at 0x000001AC58F7A8B8>\n"
     ]
    }
   ],
   "source": [
    "#Q6\n",
    "#(Part a) Use GridSearchCV to find the best parameters for SVC(kernel = 'rbf'). \n",
    "#Consider the [0.1, 1, 10] for both C and gamma. Set random_state = 0 and cv = 5. What are the best parameters?\n",
    "\n",
    "from sklearn.svm import SVC\n",
    "from sklearn.model_selection import GridSearchCV\n",
    "\n",
    "param_grid = {'C':[.1, 1, 10],\n",
    "             'gamma': [.1, 1, 10]}\n",
    "\n",
    "grid2 = GridSearchCV(SVC(random_state=0, kernel='rbf'), \n",
    "                     param_grid, cv =5 , return_train_score= True)\n",
    "grid2.fit(X_train, y_train)\n",
    "print(grid2.best_params_)\n",
    "print(grid2.best_score_)\n",
    "print(grid2.scorer_)"
   ]
  },
  {
   "cell_type": "code",
   "execution_count": 133,
   "metadata": {},
   "outputs": [
    {
     "data": {
      "text/plain": [
       "SVC(C=1, cache_size=200, class_weight=None, coef0=0.0,\n",
       "    decision_function_shape='ovr', degree=3, gamma=0.1, kernel='rbf',\n",
       "    max_iter=-1, probability=False, random_state=0, shrinking=True, tol=0.001,\n",
       "    verbose=False)"
      ]
     },
     "execution_count": 133,
     "metadata": {},
     "output_type": "execute_result"
    },
    {
     "data": {
      "text/plain": [
       "Text(0.5, 1.0, 'Confusion matrix')"
      ]
     },
     "execution_count": 133,
     "metadata": {},
     "output_type": "execute_result"
    },
    {
     "data": {
      "text/plain": [
       "0.6349206349206349"
      ]
     },
     "execution_count": 133,
     "metadata": {},
     "output_type": "execute_result"
    },
    {
     "data": {
      "image/png": "[encoded data removed]",
      "text/plain": [
       "<Figure size 432x288 with 1 Axes>"
      ]
     },
     "metadata": {
      "needs_background": "light"
     },
     "output_type": "display_data"
    }
   ],
   "source": [
    "#Q7\n",
    "#(Part a) Train SVC using the best parameter found in the previous questions, find the confusion matrix. \n",
    "#Now what percentage of the instances with label 2 has been predicted correctly using this classification model? \n",
    "#(Enter the value with 4 significant digits.)\n",
    "\n",
    "\n",
    "#note: this question is asking for train score performance\n",
    "\n",
    "#The model\n",
    "model=SVC(random_state=0, kernel='rbf', C=1, gamma=.1)\n",
    "model.fit(X_train, y_train)\n",
    "\n",
    "train_pred = model.predict(X_train)\n",
    "#confusion matrix\n",
    "#A great model would show a dark diagonal, indicating that the majority of the points were predicted as thier true class\n",
    "scores_image = mglearn.tools.heatmap(\n",
    "    confusion_matrix(y_train, train_pred), xlabel='Predicted label',\n",
    "    ylabel='True label', xticklabels=['0','1', '2'],\n",
    "    yticklabels=['0','1', '2'], cmap=plt.cm.gray_r, fmt=\"%d\")\n",
    "plt.title(\"Confusion matrix\")\n",
    "plt.gca().invert_yaxis()\n",
    "\n",
    "40/(23+40)\n",
    "\n",
    "#If the question was for test performance, this would be the code:\n",
    "# #predictions\n",
    "# test_pred = model.predict(X_test)\n",
    "# #confusion matrix\n",
    "# #A great model would show a dark diagonal, indicating that the majority of the points were predicted as thier true class\n",
    "# scores_image = mglearn.tools.heatmap(\n",
    "#     confusion_matrix(y_test, test_pred), xlabel='Predicted label',\n",
    "#     ylabel='True label', xticklabels=['0','1', '2'],\n",
    "#     yticklabels=['0','1', '2'], cmap=plt.cm.gray_r, fmt=\"%d\")\n",
    "# plt.title(\"Confusion matrix\")\n",
    "# plt.gca().invert_yaxis()\n",
    "\n",
    "# instances_predicted_as_2=22\n",
    "# instances_correctly_predicted_as_2=12\n",
    "# instances_correctly_predicted_as_2/instances_predicted_as_2"
   ]
  },
  {
   "cell_type": "markdown",
   "metadata": {},
   "source": [
    "## Lab 6"
   ]
  },
  {
   "cell_type": "code",
   "execution_count": 134,
   "metadata": {
    "scrolled": true
   },
   "outputs": [
    {
     "data": {
      "text/plain": [
       "LogisticRegression(C=1.0, class_weight=None, dual=False, fit_intercept=True,\n",
       "                   intercept_scaling=1, l1_ratio=None, max_iter=50,\n",
       "                   multi_class='auto', n_jobs=None, penalty='l2',\n",
       "                   random_state=0, solver='liblinear', tol=0.0001, verbose=0,\n",
       "                   warm_start=False)"
      ]
     },
     "execution_count": 134,
     "metadata": {},
     "output_type": "execute_result"
    },
    {
     "data": {
      "text/plain": [
       "DecisionTreeClassifier(class_weight=None, criterion='gini', max_depth=1,\n",
       "                       max_features=None, max_leaf_nodes=None,\n",
       "                       min_impurity_decrease=0.0, min_impurity_split=None,\n",
       "                       min_samples_leaf=1, min_samples_split=2,\n",
       "                       min_weight_fraction_leaf=0.0, presort=False,\n",
       "                       random_state=0, splitter='best')"
      ]
     },
     "execution_count": 134,
     "metadata": {},
     "output_type": "execute_result"
    },
    {
     "data": {
      "text/plain": [
       "SVC(C=0.001, cache_size=200, class_weight=None, coef0=0.0,\n",
       "    decision_function_shape='ovr', degree=3, gamma='auto_deprecated',\n",
       "    kernel='linear', max_iter=-1, probability=False, random_state=0,\n",
       "    shrinking=True, tol=0.001, verbose=False)"
      ]
     },
     "execution_count": 134,
     "metadata": {},
     "output_type": "execute_result"
    },
    {
     "data": {
      "text/plain": [
       "VotingClassifier(estimators=[('lr',\n",
       "                              LogisticRegression(C=1.0, class_weight=None,\n",
       "                                                 dual=False, fit_intercept=True,\n",
       "                                                 intercept_scaling=1,\n",
       "                                                 l1_ratio=None, max_iter=50,\n",
       "                                                 multi_class='auto',\n",
       "                                                 n_jobs=None, penalty='l2',\n",
       "                                                 random_state=0,\n",
       "                                                 solver='liblinear', tol=0.0001,\n",
       "                                                 verbose=0, warm_start=False)),\n",
       "                             ('dt',\n",
       "                              DecisionTreeClassifier(class_weight=None,\n",
       "                                                     criterion='gini',\n",
       "                                                     max_depth=1,\n",
       "                                                     ma...\n",
       "                                                     min_weight_fraction_leaf=0.0,\n",
       "                                                     presort=False,\n",
       "                                                     random_state=0,\n",
       "                                                     splitter='best')),\n",
       "                             ('svc',\n",
       "                              SVC(C=0.001, cache_size=200, class_weight=None,\n",
       "                                  coef0=0.0, decision_function_shape='ovr',\n",
       "                                  degree=3, gamma='auto_deprecated',\n",
       "                                  kernel='linear', max_iter=-1,\n",
       "                                  probability=False, random_state=0,\n",
       "                                  shrinking=True, tol=0.001, verbose=False))],\n",
       "                 flatten_transform=True, n_jobs=None, voting='hard',\n",
       "                 weights=None)"
      ]
     },
     "execution_count": 134,
     "metadata": {},
     "output_type": "execute_result"
    },
    {
     "name": "stdout",
     "output_type": "stream",
     "text": [
      "LogisticRegression 0.5179291366436457\n",
      "DecisionTreeClassifier 0.3333333333333333\n",
      "SVC 0.3333333333333333\n",
      "VotingClassifier 0.3333333333333333\n"
     ]
    }
   ],
   "source": [
    "#Q1\n",
    "# (Part a) First, train the following models on X_train and y_train. \n",
    "# Logistic Regression with solver = 'liblinear', multi_class = 'auto', max_iter = 50, random_state = 0\n",
    "# Decision tree with max_depth = 1\n",
    "# Support vector machine with kernel = 'linear', C = 0.001.\n",
    "# In the all above models, set random_sate = 0. Compute the train macro recall score of the hard-voting classifier? (four significant digits)\n",
    "\n",
    "LRmodel=LogisticRegression(solver='liblinear', multi_class='auto', max_iter=50, random_state=0)\n",
    "LRmodel.fit(X_train, y_train)\n",
    "DTmodel=DecisionTreeClassifier(max_depth=1, random_state=0)\n",
    "DTmodel.fit(X_train, y_train)\n",
    "SVCmodel=SVC(kernel='linear', C=.001, random_state=0)\n",
    "SVCmodel.fit(X_train, y_train)\n",
    "\n",
    "#hard-voting is a simple majority vote where each model has equal voting wieght.\n",
    "#this question is saying to make predictions based on the majority vote of the 3 models and then find how well this worked using train macro recall score.\n",
    "#it appears that the estimators arguement takes models and thier names. you can assign whatever name you want\n",
    "from sklearn.ensemble import VotingClassifier\n",
    "hard_vote_ensemble = VotingClassifier(estimators=[('lr', LRmodel), ('dt', DTmodel), ('svc', SVCmodel)], voting='hard')\n",
    "hard_vote_ensemble.fit(X_train, y_train)\n",
    "\n",
    "#when you have small num of classifiers youll likely only slightly outperform the individual models\n",
    "#if you are doing hard voting you want the indivdual models to be about equally well performing on thier own\n",
    "from sklearn.metrics import classification_report\n",
    "for clf in (LRmodel, DTmodel, SVCmodel, hard_vote_ensemble):\n",
    "    currentfit=clf.fit(X_train, y_train) #only assigning to currentfit in order to stop the model specs from printing. otherwise not needed\n",
    "    y_pred = currentfit.predict(X_train)\n",
    "    print(clf.__class__.__name__, recall_score(y_train, y_pred, average=\"macro\"))"
   ]
  },
  {
   "cell_type": "code",
   "execution_count": 135,
   "metadata": {},
   "outputs": [
    {
     "data": {
      "text/plain": [
       "LogisticRegression(C=1.0, class_weight=None, dual=False, fit_intercept=True,\n",
       "                   intercept_scaling=1, l1_ratio=None, max_iter=50,\n",
       "                   multi_class='auto', n_jobs=None, penalty='l2',\n",
       "                   random_state=0, solver='liblinear', tol=0.0001, verbose=0,\n",
       "                   warm_start=False)"
      ]
     },
     "execution_count": 135,
     "metadata": {},
     "output_type": "execute_result"
    },
    {
     "data": {
      "text/plain": [
       "DecisionTreeClassifier(class_weight=None, criterion='gini', max_depth=1,\n",
       "                       max_features=None, max_leaf_nodes=None,\n",
       "                       min_impurity_decrease=0.0, min_impurity_split=None,\n",
       "                       min_samples_leaf=1, min_samples_split=2,\n",
       "                       min_weight_fraction_leaf=0.0, presort=False,\n",
       "                       random_state=0, splitter='best')"
      ]
     },
     "execution_count": 135,
     "metadata": {},
     "output_type": "execute_result"
    },
    {
     "data": {
      "text/plain": [
       "SVC(C=0.001, cache_size=200, class_weight=None, coef0=0.0,\n",
       "    decision_function_shape='ovr', degree=3, gamma='auto_deprecated',\n",
       "    kernel='linear', max_iter=-1, probability=True, random_state=0,\n",
       "    shrinking=True, tol=0.001, verbose=False)"
      ]
     },
     "execution_count": 135,
     "metadata": {},
     "output_type": "execute_result"
    },
    {
     "data": {
      "text/plain": [
       "VotingClassifier(estimators=[('lr',\n",
       "                              LogisticRegression(C=1.0, class_weight=None,\n",
       "                                                 dual=False, fit_intercept=True,\n",
       "                                                 intercept_scaling=1,\n",
       "                                                 l1_ratio=None, max_iter=50,\n",
       "                                                 multi_class='auto',\n",
       "                                                 n_jobs=None, penalty='l2',\n",
       "                                                 random_state=0,\n",
       "                                                 solver='liblinear', tol=0.0001,\n",
       "                                                 verbose=0, warm_start=False)),\n",
       "                             ('dt',\n",
       "                              DecisionTreeClassifier(class_weight=None,\n",
       "                                                     criterion='gini',\n",
       "                                                     max_depth=1,\n",
       "                                                     ma...\n",
       "                                                     min_weight_fraction_leaf=0.0,\n",
       "                                                     presort=False,\n",
       "                                                     random_state=0,\n",
       "                                                     splitter='best')),\n",
       "                             ('svc',\n",
       "                              SVC(C=0.001, cache_size=200, class_weight=None,\n",
       "                                  coef0=0.0, decision_function_shape='ovr',\n",
       "                                  degree=3, gamma='auto_deprecated',\n",
       "                                  kernel='linear', max_iter=-1,\n",
       "                                  probability=True, random_state=0,\n",
       "                                  shrinking=True, tol=0.001, verbose=False))],\n",
       "                 flatten_transform=True, n_jobs=None, voting='soft',\n",
       "                 weights=None)"
      ]
     },
     "execution_count": 135,
     "metadata": {},
     "output_type": "execute_result"
    },
    {
     "name": "stdout",
     "output_type": "stream",
     "text": [
      "LogisticRegression 0.5179291366436457\n",
      "DecisionTreeClassifier 0.3333333333333333\n",
      "SVC 0.3333333333333333\n",
      "VotingClassifier 0.5343915343915344\n"
     ]
    }
   ],
   "source": [
    "#Q2\n",
    "#(Part a) In the previous question change the voting strategy to soft voting. \n",
    "#What is the macro recall score? (four significant digits)\n",
    "\n",
    "#when changing from hard voting to soft voting, we needed to add the \"probability=True\" arguement so that the SVC model returns probability estimates\n",
    "LRmodel=LogisticRegression(solver='liblinear', multi_class='auto', max_iter=50, random_state=0)\n",
    "LRmodel.fit(X_train, y_train)\n",
    "DTmodel=DecisionTreeClassifier(max_depth=1, random_state=0)\n",
    "DTmodel.fit(X_train, y_train)\n",
    "SVCmodel=SVC(kernel='linear', C=.001, random_state=0, probability=True)\n",
    "SVCmodel.fit(X_train, y_train)\n",
    "\n",
    "#just change \"voting=\" to soft\n",
    "from sklearn.ensemble import VotingClassifier\n",
    "soft_vote_ensemble = VotingClassifier(estimators=[('lr', LRmodel), ('dt', DTmodel), ('svc', SVCmodel)], voting='soft')\n",
    "soft_vote_ensemble.fit(X_train, y_train)\n",
    "\n",
    "#same as before\n",
    "from sklearn.metrics import classification_report\n",
    "for clf in (LRmodel, DTmodel, SVCmodel, soft_vote_ensemble):\n",
    "    currentfit=clf.fit(X_train, y_train) #only assigning to currentfit in order to stop the model specs from printing. otherwise not needed\n",
    "    y_pred = currentfit.predict(X_train)\n",
    "    print(clf.__class__.__name__, recall_score(y_train, y_pred, average=\"macro\"))"
   ]
  },
  {
   "cell_type": "code",
   "execution_count": 136,
   "metadata": {},
   "outputs": [
    {
     "data": {
      "text/plain": [
       "BaggingClassifier(base_estimator=LogisticRegression(C=1.0, class_weight=None,\n",
       "                                                    dual=False,\n",
       "                                                    fit_intercept=True,\n",
       "                                                    intercept_scaling=1,\n",
       "                                                    l1_ratio=None, max_iter=50,\n",
       "                                                    multi_class='auto',\n",
       "                                                    n_jobs=None, penalty='l2',\n",
       "                                                    random_state=0,\n",
       "                                                    solver='lbfgs', tol=0.0001,\n",
       "                                                    verbose=0,\n",
       "                                                    warm_start=False),\n",
       "                  bootstrap=True, bootstrap_features=False, max_features=5,\n",
       "                  max_samples=500, n_estimators=100, n_jobs=None,\n",
       "                  oob_score=True, random_state=0, verbose=0, warm_start=False)"
      ]
     },
     "execution_count": 136,
     "metadata": {},
     "output_type": "execute_result"
    },
    {
     "data": {
      "text/plain": [
       "0.8570964598895745"
      ]
     },
     "execution_count": 136,
     "metadata": {},
     "output_type": "execute_result"
    }
   ],
   "source": [
    "#Q3\n",
    "# (Part a) Train a bagging classifier on base model logistic regression with \n",
    "#default parameters (solver = 'lbfgs', random_state = 0, multi_class = 'auto'). \n",
    "#Set the hyper-parameter as follow:\n",
    "# n_estimators = 100 \n",
    "# max_samples = 500 \n",
    "# max_features = 5 \n",
    "# random_state = 0\n",
    "# What is out-of-bag score? (Four significant digits)\n",
    "\n",
    "#Bagging is when you take n samples of the train data, and use them to fit n models. then allow them to vote\n",
    "#Pasting is when you do the same, but with sample replacement.  This is still done using scikit learn's BaggingClassifier()\n",
    "#set argument bootstap=False if you dont want replacemetn\n",
    "\n",
    "#Even though it isn't stated in the problem here, we do want to be sampling with replacement (aka pasting/bootstrapping)\n",
    "#We know this because the out-of-bag score is asked for. this attribute only applies to models that are bagged with replacement\n",
    "\n",
    "from sklearn.ensemble import BaggingClassifier\n",
    "from sklearn.tree import DecisionTreeClassifier\n",
    "\n",
    "#bagging classifier : first need to create its base model\n",
    "#N_estimators is the number of base models you are creating. here its 100 logistic regression models\n",
    "#max_samples is the number of rows to train each model on\n",
    "#max_features is the number of columns to use in the prediction\n",
    "\n",
    "LRmodel=LogisticRegression(solver='lbfgs', multi_class='auto', max_iter=50, random_state=0)\n",
    "bag_clf = BaggingClassifier(LRmodel, n_estimators=100, max_samples=500, max_features=5, bootstrap=True, random_state=0, oob_score=True)\n",
    "\n",
    "#train same way as before.\n",
    "bag_clf.fit(X_train, y_train)\n",
    "y_pred = bag_clf.predict(X_test)\n",
    "\n",
    "\n",
    "#\n",
    "bag_clf.oob_score_\n",
    "\n",
    "#out-of-bag estimates are like validation scores for cross validation.  \n",
    "#just as validation sets are the portion of the train data that wasn't used to train a particualar fold\n",
    "#the oob observations are part of the training set, but they are the portion of the data that wasn't used to train a particular model\n",
    "#if there are 3 models where a given point is out-of-bag, you can take the predictions from all 3, and take the average.  this is your out-of-bag estiamte for that point.\n",
    "#you can take the out-of-bag predictions for each point and compare with true values in order to create oob_score which is an estimation of actual test score (fully held out data never seen by models).\n"
   ]
  },
  {
   "cell_type": "code",
   "execution_count": 137,
   "metadata": {},
   "outputs": [
    {
     "data": {
      "text/plain": [
       "GridSearchCV(cv=5, error_score='raise-deprecating',\n",
       "             estimator=RandomForestClassifier(bootstrap=True, class_weight=None,\n",
       "                                              criterion='gini', max_depth=None,\n",
       "                                              max_features='auto',\n",
       "                                              max_leaf_nodes=None,\n",
       "                                              min_impurity_decrease=0.0,\n",
       "                                              min_impurity_split=None,\n",
       "                                              min_samples_leaf=1,\n",
       "                                              min_samples_split=2,\n",
       "                                              min_weight_fraction_leaf=0.0,\n",
       "                                              n_estimators='warn', n_jobs=-1,\n",
       "                                              oob_score=False, random_state=0,\n",
       "                                              verbose=0, warm_start=False),\n",
       "             iid='warn', n_jobs=None,\n",
       "             param_grid={'max_depth': [1, 3, 5, 7], 'max_features': [5, 7, 9],\n",
       "                         'n_estimators': [100, 200, 500]},\n",
       "             pre_dispatch='2*n_jobs', refit=True, return_train_score=True,\n",
       "             scoring='accuracy', verbose=0)"
      ]
     },
     "execution_count": 137,
     "metadata": {},
     "output_type": "execute_result"
    },
    {
     "name": "stdout",
     "output_type": "stream",
     "text": [
      "Best parameters: {'max_depth': 7, 'max_features': 9, 'n_estimators': 500}\n",
      "Best cross-validation score: 0.87\n"
     ]
    }
   ],
   "source": [
    "#Q4\n",
    "#Part a) Use a grid search to find the best parameters of a random forest machine learning model on this dataset.\n",
    "#max_depth in [1, 3, 5, 7] \n",
    "#max_features in [5, 7, 9] \n",
    "#n_estimators in [100, 200, 500] \n",
    "#random_state = 0 \n",
    "#cv = 5\n",
    "#What are the best parameters of the model? \n",
    "#max_depth? max depth is 7\n",
    "\n",
    "\n",
    "from sklearn.ensemble import RandomForestClassifier\n",
    "\n",
    "#Grid Search\n",
    "param_grid = {'max_depth': [1,3,5,7],\n",
    "             'max_features': [5, 7, 9],\n",
    "              'n_estimators': [100, 200, 500]}\n",
    "\n",
    "grid_search = GridSearchCV(RandomForestClassifier(random_state=0, n_jobs=-1), param_grid, cv=5, return_train_score=True, scoring='accuracy')\n",
    "\n",
    "grid_search.fit(X_train, y_train)\n",
    "\n",
    "print(\"Best parameters: {}\".format(grid_search.best_params_))\n",
    "print(\"Best cross-validation score: {:.2f}\".format(grid_search.best_score_))\n",
    "\n",
    "#Q5\n",
    "#Part a) In the previous question, what is the best value of hyperparameter max_features?\n",
    "#its 9\n",
    "\n",
    "#Q6\n",
    "#In question 4, what is the best value of hyperparameter n_estimators ?\n",
    "#its 500"
   ]
  },
  {
   "cell_type": "code",
   "execution_count": 138,
   "metadata": {},
   "outputs": [
    {
     "data": {
      "text/plain": [
       "Index(['Administrative', 'Administrative_Duration', 'Informational',\n",
       "       'Informational_Duration', 'ProductRelated', 'ProductRelated_Duration',\n",
       "       'BounceRates', 'ExitRates', 'PageValues', 'SpecialDay',\n",
       "       'OperatingSystems', 'Browser', 'Region', 'TrafficType', 'Weekend',\n",
       "       'Revenue', 'Aug', 'Dec', 'Feb', 'Jul', 'June', 'Mar', 'May', 'Nov',\n",
       "       'Oct', 'Sep'],\n",
       "      dtype='object')"
      ]
     },
     "execution_count": 138,
     "metadata": {},
     "output_type": "execute_result"
    }
   ],
   "source": [
    "OSI_X_Vars.columns"
   ]
  },
  {
   "cell_type": "code",
   "execution_count": 139,
   "metadata": {},
   "outputs": [
    {
     "data": {
      "text/plain": [
       "RandomForestClassifier(bootstrap=True, class_weight=None, criterion='gini',\n",
       "                       max_depth=7, max_features=9, max_leaf_nodes=None,\n",
       "                       min_impurity_decrease=0.0, min_impurity_split=None,\n",
       "                       min_samples_leaf=1, min_samples_split=2,\n",
       "                       min_weight_fraction_leaf=0.0, n_estimators=500,\n",
       "                       n_jobs=-1, oob_score=False, random_state=0, verbose=0,\n",
       "                       warm_start=False)"
      ]
     },
     "execution_count": 139,
     "metadata": {},
     "output_type": "execute_result"
    },
    {
     "name": "stdout",
     "output_type": "stream",
     "text": [
      "Full train set accuracy score: 0.889\n",
      "Test set accuracy score: 0.864\n",
      "importance\n",
      "Administrative 0.034\n",
      "Administrative_Duration 0.079\n",
      "Informational 0.003\n",
      "Informational_Duration 0.005\n",
      "ProductRelated 0.097\n",
      "ProductRelated_Duration 0.09\n",
      "BounceRates 0.234\n",
      "ExitRates 0.176\n",
      "PageValues 0.038\n",
      "SpecialDay 0.002\n",
      "OperatingSystems 0.038\n",
      "Browser 0.047\n",
      "Region 0.011\n",
      "TrafficType 0.092\n",
      "Weekend 0.003\n",
      "Revenue 0.016\n",
      "Aug 0.001\n",
      "Dec 0.012\n",
      "Feb 0.0\n",
      "Jul 0.001\n",
      "June 0.001\n",
      "Mar 0.002\n",
      "May 0.006\n",
      "Nov 0.005\n",
      "Oct 0.002\n",
      "Sep 0.004\n"
     ]
    }
   ],
   "source": [
    "#Q7\n",
    "#(Part a) Train a random forest machine learning model on this dataset using the best parameters in the previous question. \n",
    "#Which feature has the highest importance?\n",
    "\n",
    "model = RandomForestClassifier(n_estimators=500, max_depth=7, max_features=9, n_jobs=-1, random_state=0)\n",
    "model.fit(X_train, y_train)\n",
    "print(\"Full train set accuracy score: {:.3f}\".format(model.score(X_train, y_train)))\n",
    "print(\"Test set accuracy score: {:.3f}\".format(model.score(X_test, y_test)))\n",
    "\n",
    "print('importance')\n",
    "for name, score in zip(OSI_X_Vars.columns, model.feature_importances_):\n",
    "    print(name, round(score, 3))"
   ]
  },
  {
   "cell_type": "code",
   "execution_count": 140,
   "metadata": {},
   "outputs": [
    {
     "data": {
      "text/plain": [
       "(9237, 26)"
      ]
     },
     "execution_count": 140,
     "metadata": {},
     "output_type": "execute_result"
    },
    {
     "name": "stderr",
     "output_type": "stream",
     "text": [
      "C:\\Users\\megan\\AppData\\Local\\Continuum\\anaconda3\\envs\\gpu_tf_conda_only\\lib\\site-packages\\sklearn\\linear_model\\logistic.py:947: ConvergenceWarning: lbfgs failed to converge. Increase the number of iterations.\n",
      "  \"of iterations.\", ConvergenceWarning)\n",
      "C:\\Users\\megan\\AppData\\Local\\Continuum\\anaconda3\\envs\\gpu_tf_conda_only\\lib\\site-packages\\sklearn\\linear_model\\logistic.py:947: ConvergenceWarning: lbfgs failed to converge. Increase the number of iterations.\n",
      "  \"of iterations.\", ConvergenceWarning)\n",
      "C:\\Users\\megan\\AppData\\Local\\Continuum\\anaconda3\\envs\\gpu_tf_conda_only\\lib\\site-packages\\sklearn\\linear_model\\logistic.py:947: ConvergenceWarning: lbfgs failed to converge. Increase the number of iterations.\n",
      "  \"of iterations.\", ConvergenceWarning)\n",
      "C:\\Users\\megan\\AppData\\Local\\Continuum\\anaconda3\\envs\\gpu_tf_conda_only\\lib\\site-packages\\sklearn\\linear_model\\logistic.py:947: ConvergenceWarning: lbfgs failed to converge. Increase the number of iterations.\n",
      "  \"of iterations.\", ConvergenceWarning)\n",
      "C:\\Users\\megan\\AppData\\Local\\Continuum\\anaconda3\\envs\\gpu_tf_conda_only\\lib\\site-packages\\sklearn\\linear_model\\logistic.py:947: ConvergenceWarning: lbfgs failed to converge. Increase the number of iterations.\n",
      "  \"of iterations.\", ConvergenceWarning)\n",
      "C:\\Users\\megan\\AppData\\Local\\Continuum\\anaconda3\\envs\\gpu_tf_conda_only\\lib\\site-packages\\sklearn\\linear_model\\logistic.py:947: ConvergenceWarning: lbfgs failed to converge. Increase the number of iterations.\n",
      "  \"of iterations.\", ConvergenceWarning)\n",
      "C:\\Users\\megan\\AppData\\Local\\Continuum\\anaconda3\\envs\\gpu_tf_conda_only\\lib\\site-packages\\sklearn\\linear_model\\logistic.py:947: ConvergenceWarning: lbfgs failed to converge. Increase the number of iterations.\n",
      "  \"of iterations.\", ConvergenceWarning)\n",
      "C:\\Users\\megan\\AppData\\Local\\Continuum\\anaconda3\\envs\\gpu_tf_conda_only\\lib\\site-packages\\sklearn\\linear_model\\logistic.py:947: ConvergenceWarning: lbfgs failed to converge. Increase the number of iterations.\n",
      "  \"of iterations.\", ConvergenceWarning)\n",
      "C:\\Users\\megan\\AppData\\Local\\Continuum\\anaconda3\\envs\\gpu_tf_conda_only\\lib\\site-packages\\sklearn\\linear_model\\logistic.py:947: ConvergenceWarning: lbfgs failed to converge. Increase the number of iterations.\n",
      "  \"of iterations.\", ConvergenceWarning)\n",
      "C:\\Users\\megan\\AppData\\Local\\Continuum\\anaconda3\\envs\\gpu_tf_conda_only\\lib\\site-packages\\sklearn\\linear_model\\logistic.py:947: ConvergenceWarning: lbfgs failed to converge. Increase the number of iterations.\n",
      "  \"of iterations.\", ConvergenceWarning)\n",
      "C:\\Users\\megan\\AppData\\Local\\Continuum\\anaconda3\\envs\\gpu_tf_conda_only\\lib\\site-packages\\sklearn\\linear_model\\logistic.py:947: ConvergenceWarning: lbfgs failed to converge. Increase the number of iterations.\n",
      "  \"of iterations.\", ConvergenceWarning)\n",
      "C:\\Users\\megan\\AppData\\Local\\Continuum\\anaconda3\\envs\\gpu_tf_conda_only\\lib\\site-packages\\sklearn\\linear_model\\logistic.py:947: ConvergenceWarning: lbfgs failed to converge. Increase the number of iterations.\n",
      "  \"of iterations.\", ConvergenceWarning)\n",
      "C:\\Users\\megan\\AppData\\Local\\Continuum\\anaconda3\\envs\\gpu_tf_conda_only\\lib\\site-packages\\sklearn\\linear_model\\logistic.py:947: ConvergenceWarning: lbfgs failed to converge. Increase the number of iterations.\n",
      "  \"of iterations.\", ConvergenceWarning)\n",
      "C:\\Users\\megan\\AppData\\Local\\Continuum\\anaconda3\\envs\\gpu_tf_conda_only\\lib\\site-packages\\sklearn\\linear_model\\logistic.py:947: ConvergenceWarning: lbfgs failed to converge. Increase the number of iterations.\n",
      "  \"of iterations.\", ConvergenceWarning)\n",
      "C:\\Users\\megan\\AppData\\Local\\Continuum\\anaconda3\\envs\\gpu_tf_conda_only\\lib\\site-packages\\sklearn\\linear_model\\logistic.py:947: ConvergenceWarning: lbfgs failed to converge. Increase the number of iterations.\n",
      "  \"of iterations.\", ConvergenceWarning)\n",
      "C:\\Users\\megan\\AppData\\Local\\Continuum\\anaconda3\\envs\\gpu_tf_conda_only\\lib\\site-packages\\sklearn\\linear_model\\logistic.py:947: ConvergenceWarning: lbfgs failed to converge. Increase the number of iterations.\n",
      "  \"of iterations.\", ConvergenceWarning)\n",
      "C:\\Users\\megan\\AppData\\Local\\Continuum\\anaconda3\\envs\\gpu_tf_conda_only\\lib\\site-packages\\sklearn\\linear_model\\logistic.py:947: ConvergenceWarning: lbfgs failed to converge. Increase the number of iterations.\n",
      "  \"of iterations.\", ConvergenceWarning)\n",
      "C:\\Users\\megan\\AppData\\Local\\Continuum\\anaconda3\\envs\\gpu_tf_conda_only\\lib\\site-packages\\sklearn\\linear_model\\logistic.py:947: ConvergenceWarning: lbfgs failed to converge. Increase the number of iterations.\n",
      "  \"of iterations.\", ConvergenceWarning)\n",
      "C:\\Users\\megan\\AppData\\Local\\Continuum\\anaconda3\\envs\\gpu_tf_conda_only\\lib\\site-packages\\sklearn\\linear_model\\logistic.py:947: ConvergenceWarning: lbfgs failed to converge. Increase the number of iterations.\n",
      "  \"of iterations.\", ConvergenceWarning)\n",
      "C:\\Users\\megan\\AppData\\Local\\Continuum\\anaconda3\\envs\\gpu_tf_conda_only\\lib\\site-packages\\sklearn\\linear_model\\logistic.py:947: ConvergenceWarning: lbfgs failed to converge. Increase the number of iterations.\n",
      "  \"of iterations.\", ConvergenceWarning)\n",
      "C:\\Users\\megan\\AppData\\Local\\Continuum\\anaconda3\\envs\\gpu_tf_conda_only\\lib\\site-packages\\sklearn\\linear_model\\logistic.py:947: ConvergenceWarning: lbfgs failed to converge. Increase the number of iterations.\n",
      "  \"of iterations.\", ConvergenceWarning)\n",
      "C:\\Users\\megan\\AppData\\Local\\Continuum\\anaconda3\\envs\\gpu_tf_conda_only\\lib\\site-packages\\sklearn\\linear_model\\logistic.py:947: ConvergenceWarning: lbfgs failed to converge. Increase the number of iterations.\n",
      "  \"of iterations.\", ConvergenceWarning)\n",
      "C:\\Users\\megan\\AppData\\Local\\Continuum\\anaconda3\\envs\\gpu_tf_conda_only\\lib\\site-packages\\sklearn\\linear_model\\logistic.py:947: ConvergenceWarning: lbfgs failed to converge. Increase the number of iterations.\n",
      "  \"of iterations.\", ConvergenceWarning)\n",
      "C:\\Users\\megan\\AppData\\Local\\Continuum\\anaconda3\\envs\\gpu_tf_conda_only\\lib\\site-packages\\sklearn\\linear_model\\logistic.py:947: ConvergenceWarning: lbfgs failed to converge. Increase the number of iterations.\n",
      "  \"of iterations.\", ConvergenceWarning)\n",
      "C:\\Users\\megan\\AppData\\Local\\Continuum\\anaconda3\\envs\\gpu_tf_conda_only\\lib\\site-packages\\sklearn\\linear_model\\logistic.py:947: ConvergenceWarning: lbfgs failed to converge. Increase the number of iterations.\n",
      "  \"of iterations.\", ConvergenceWarning)\n",
      "C:\\Users\\megan\\AppData\\Local\\Continuum\\anaconda3\\envs\\gpu_tf_conda_only\\lib\\site-packages\\sklearn\\linear_model\\logistic.py:947: ConvergenceWarning: lbfgs failed to converge. Increase the number of iterations.\n",
      "  \"of iterations.\", ConvergenceWarning)\n",
      "C:\\Users\\megan\\AppData\\Local\\Continuum\\anaconda3\\envs\\gpu_tf_conda_only\\lib\\site-packages\\sklearn\\linear_model\\logistic.py:947: ConvergenceWarning: lbfgs failed to converge. Increase the number of iterations.\n",
      "  \"of iterations.\", ConvergenceWarning)\n",
      "C:\\Users\\megan\\AppData\\Local\\Continuum\\anaconda3\\envs\\gpu_tf_conda_only\\lib\\site-packages\\sklearn\\linear_model\\logistic.py:947: ConvergenceWarning: lbfgs failed to converge. Increase the number of iterations.\n",
      "  \"of iterations.\", ConvergenceWarning)\n",
      "C:\\Users\\megan\\AppData\\Local\\Continuum\\anaconda3\\envs\\gpu_tf_conda_only\\lib\\site-packages\\sklearn\\linear_model\\logistic.py:947: ConvergenceWarning: lbfgs failed to converge. Increase the number of iterations.\n",
      "  \"of iterations.\", ConvergenceWarning)\n",
      "C:\\Users\\megan\\AppData\\Local\\Continuum\\anaconda3\\envs\\gpu_tf_conda_only\\lib\\site-packages\\sklearn\\linear_model\\logistic.py:947: ConvergenceWarning: lbfgs failed to converge. Increase the number of iterations.\n",
      "  \"of iterations.\", ConvergenceWarning)\n",
      "C:\\Users\\megan\\AppData\\Local\\Continuum\\anaconda3\\envs\\gpu_tf_conda_only\\lib\\site-packages\\sklearn\\linear_model\\logistic.py:947: ConvergenceWarning: lbfgs failed to converge. Increase the number of iterations.\n",
      "  \"of iterations.\", ConvergenceWarning)\n",
      "C:\\Users\\megan\\AppData\\Local\\Continuum\\anaconda3\\envs\\gpu_tf_conda_only\\lib\\site-packages\\sklearn\\linear_model\\logistic.py:947: ConvergenceWarning: lbfgs failed to converge. Increase the number of iterations.\n",
      "  \"of iterations.\", ConvergenceWarning)\n",
      "C:\\Users\\megan\\AppData\\Local\\Continuum\\anaconda3\\envs\\gpu_tf_conda_only\\lib\\site-packages\\sklearn\\linear_model\\logistic.py:947: ConvergenceWarning: lbfgs failed to converge. Increase the number of iterations.\n",
      "  \"of iterations.\", ConvergenceWarning)\n",
      "C:\\Users\\megan\\AppData\\Local\\Continuum\\anaconda3\\envs\\gpu_tf_conda_only\\lib\\site-packages\\sklearn\\linear_model\\logistic.py:947: ConvergenceWarning: lbfgs failed to converge. Increase the number of iterations.\n",
      "  \"of iterations.\", ConvergenceWarning)\n"
     ]
    },
    {
     "name": "stderr",
     "output_type": "stream",
     "text": [
      "C:\\Users\\megan\\AppData\\Local\\Continuum\\anaconda3\\envs\\gpu_tf_conda_only\\lib\\site-packages\\sklearn\\linear_model\\logistic.py:947: ConvergenceWarning: lbfgs failed to converge. Increase the number of iterations.\n",
      "  \"of iterations.\", ConvergenceWarning)\n",
      "C:\\Users\\megan\\AppData\\Local\\Continuum\\anaconda3\\envs\\gpu_tf_conda_only\\lib\\site-packages\\sklearn\\linear_model\\logistic.py:947: ConvergenceWarning: lbfgs failed to converge. Increase the number of iterations.\n",
      "  \"of iterations.\", ConvergenceWarning)\n",
      "C:\\Users\\megan\\AppData\\Local\\Continuum\\anaconda3\\envs\\gpu_tf_conda_only\\lib\\site-packages\\sklearn\\linear_model\\logistic.py:947: ConvergenceWarning: lbfgs failed to converge. Increase the number of iterations.\n",
      "  \"of iterations.\", ConvergenceWarning)\n",
      "C:\\Users\\megan\\AppData\\Local\\Continuum\\anaconda3\\envs\\gpu_tf_conda_only\\lib\\site-packages\\sklearn\\linear_model\\logistic.py:947: ConvergenceWarning: lbfgs failed to converge. Increase the number of iterations.\n",
      "  \"of iterations.\", ConvergenceWarning)\n"
     ]
    },
    {
     "data": {
      "text/plain": [
       "BaggingClassifier(base_estimator=LogisticRegression(C=1.0, class_weight=None,\n",
       "                                                    dual=False,\n",
       "                                                    fit_intercept=True,\n",
       "                                                    intercept_scaling=1,\n",
       "                                                    l1_ratio=None, max_iter=50,\n",
       "                                                    multi_class='auto',\n",
       "                                                    n_jobs=None, penalty='l2',\n",
       "                                                    random_state=0,\n",
       "                                                    solver='lbfgs', tol=0.0001,\n",
       "                                                    verbose=0,\n",
       "                                                    warm_start=False),\n",
       "                  bootstrap=False, bootstrap_features=False, max_features=1.0,\n",
       "                  max_samples=1000, n_estimators=100, n_jobs=None,\n",
       "                  oob_score=False, random_state=0, verbose=0, warm_start=False)"
      ]
     },
     "execution_count": 140,
     "metadata": {},
     "output_type": "execute_result"
    },
    {
     "name": "stdout",
     "output_type": "stream",
     "text": [
      "0.8544982137057486\n"
     ]
    }
   ],
   "source": [
    "#Attempting bagging WITHOUT replacement.\n",
    "#UNCLEAR WHY THIS RUNS..should error out bc we dont have enough data to do this without replacement.....\n",
    "X_train.shape\n",
    "\n",
    "LRmodel=LogisticRegression(solver='lbfgs', multi_class='auto', max_iter=50, random_state=0)\n",
    "bag_clf = BaggingClassifier(LRmodel, n_estimators=100, max_samples=1000, bootstrap=False, random_state=0)\n",
    "\n",
    "#train same way as before.\n",
    "bag_clf.fit(X_train, y_train)\n",
    "y_pred = bag_clf.predict(X_test)\n",
    "\n",
    "from  sklearn.metrics import accuracy_score\n",
    "print(accuracy_score(y_test, y_pred))"
   ]
  },
  {
   "cell_type": "code",
   "execution_count": 141,
   "metadata": {},
   "outputs": [
    {
     "data": {
      "text/plain": [
       "15"
      ]
     },
     "execution_count": 141,
     "metadata": {},
     "output_type": "execute_result"
    },
    {
     "data": {
      "text/plain": [
       "array([0.18285712, 0.13292773, 0.12092129, 0.09881099, 0.0920747 ,\n",
       "       0.06536285, 0.06063542, 0.04508227, 0.03025893, 0.02750245,\n",
       "       0.02477211, 0.02366022, 0.02039689, 0.01690916, 0.0143289 ])"
      ]
     },
     "execution_count": 141,
     "metadata": {},
     "output_type": "execute_result"
    },
    {
     "data": {
      "text/plain": [
       "0.9565010414853153"
      ]
     },
     "execution_count": 141,
     "metadata": {},
     "output_type": "execute_result"
    }
   ],
   "source": [
    "#Q1\n",
    "#(Part a) Use PCA is to reduce the size of the feature space while retaining 95% of explained variance. \n",
    "#What is the size of the transformed feature space? (Number of features in the reduced dataset)\n",
    "\n",
    "from sklearn.decomposition import PCA\n",
    "\n",
    "#Instantiate PCA \n",
    "pca = PCA(n_components=.95, random_state=0)\n",
    "X_train_reduced = pca.fit_transform(X_train)\n",
    "X_test_reduced = pca.transform(X_test)\n",
    "\n",
    "#Number of components needed to retain 95% of the variance in the original data\n",
    "pca.n_components_\n",
    "\n",
    "#Percentage of variance explained by each of the selected components\n",
    "pca.explained_variance_ratio_\n",
    "\n",
    "#total variance explained by all these PCs\n",
    "pca.explained_variance_ratio_.sum()\n"
   ]
  },
  {
   "cell_type": "code",
   "execution_count": 142,
   "metadata": {},
   "outputs": [
    {
     "data": {
      "text/plain": [
       "(9237, 15)"
      ]
     },
     "execution_count": 142,
     "metadata": {},
     "output_type": "execute_result"
    },
    {
     "data": {
      "text/plain": [
       "(3079, 15)"
      ]
     },
     "execution_count": 142,
     "metadata": {},
     "output_type": "execute_result"
    },
    {
     "data": {
      "text/plain": [
       "(9237,)"
      ]
     },
     "execution_count": 142,
     "metadata": {},
     "output_type": "execute_result"
    },
    {
     "data": {
      "text/plain": [
       "(3079,)"
      ]
     },
     "execution_count": 142,
     "metadata": {},
     "output_type": "execute_result"
    }
   ],
   "source": [
    "X_train_reduced.shape\n",
    "X_test_reduced.shape\n",
    "y_train.shape\n",
    "y_test.shape"
   ]
  },
  {
   "cell_type": "code",
   "execution_count": 143,
   "metadata": {},
   "outputs": [
    {
     "data": {
      "text/plain": [
       "GridSearchCV(cv=5, error_score='raise-deprecating',\n",
       "             estimator=SVC(C=1.0, cache_size=200, class_weight=None, coef0=0.0,\n",
       "                           decision_function_shape='ovr', degree=3,\n",
       "                           gamma='auto_deprecated', kernel='rbf', max_iter=-1,\n",
       "                           probability=False, random_state=0, shrinking=True,\n",
       "                           tol=0.001, verbose=False),\n",
       "             iid='warn', n_jobs=None,\n",
       "             param_grid={'C': [0.1, 1, 10], 'gamma': [0.1, 1, 10]},\n",
       "             pre_dispatch='2*n_jobs', refit=True, return_train_score=True,\n",
       "             scoring='accuracy', verbose=0)"
      ]
     },
     "execution_count": 143,
     "metadata": {},
     "output_type": "execute_result"
    },
    {
     "name": "stdout",
     "output_type": "stream",
     "text": [
      "Best parameters: {'C': 10, 'gamma': 0.1}\n",
      "Best cross-validation score: 0.86\n"
     ]
    }
   ],
   "source": [
    "#Q2 #Q3\n",
    "#(Part a) For the rest of this lab, we will consider the reduced train and test sets. \n",
    "#For models with hyper-parameter random_state = 0. Use grid search to find the best parameters of \n",
    "#a support vector machine with the kernel 'rbf' and following range of parameters:\n",
    "# C in [0.1, 1, 10]\n",
    "# gamma in [0.1, 1, 10]\n",
    "# cv = 5\n",
    "#Q2 What is the best value of hyperparameter C of this model?\n",
    "#Q3 (Part a) what is the best value of hyperparameter gamma?\n",
    "\n",
    "\n",
    "\n",
    "#SVC linear kernel\n",
    "param_grid = {'C': [.1, 1, 10],\n",
    "              'gamma': [.1,1,10]}\n",
    "\n",
    "#grid search components:\n",
    "    #base model, \n",
    "    #param grid, so it knows what to test\n",
    "    #num of folds you want to use\n",
    "    #retun_train_score, faster to not do this, but if you want them set it to true. often nice to look at and plot so you can compare with test to see if there is a large gap\n",
    "\n",
    "grid_search = GridSearchCV(SVC(kernel='rbf', random_state=0), param_grid, cv=5, return_train_score=True, scoring='accuracy')\n",
    "\n",
    "grid_search.fit(X_train_reduced, y_train)\n",
    "\n",
    "print(\"Best parameters: {}\".format(grid_search.best_params_))\n",
    "print(\"Best cross-validation score: {:.2f}\".format(grid_search.best_score_))"
   ]
  },
  {
   "cell_type": "code",
   "execution_count": 144,
   "metadata": {},
   "outputs": [
    {
     "data": {
      "text/plain": [
       "GradientBoostingClassifier(criterion='friedman_mse', init=None,\n",
       "                           learning_rate=0.5, loss='deviance', max_depth=3,\n",
       "                           max_features=None, max_leaf_nodes=None,\n",
       "                           min_impurity_decrease=0.0, min_impurity_split=None,\n",
       "                           min_samples_leaf=1, min_samples_split=2,\n",
       "                           min_weight_fraction_leaf=0.0, n_estimators=100,\n",
       "                           n_iter_no_change=None, presort='auto',\n",
       "                           random_state=0, subsample=1.0, tol=0.0001,\n",
       "                           validation_fraction=0.1, verbose=0,\n",
       "                           warm_start=False)"
      ]
     },
     "execution_count": 144,
     "metadata": {},
     "output_type": "execute_result"
    },
    {
     "name": "stdout",
     "output_type": "stream",
     "text": [
      "Macro average test recall score: 0.54489\n"
     ]
    }
   ],
   "source": [
    "#Q4\n",
    "#(Part a) Train a gradient boosting machine-learning model on the reduced dataset with the following hyper-parameters.\n",
    "# n_estimators= 100\n",
    "# learning_rate=0.5\n",
    "# random_state = 0\n",
    "# What is the macro recall score of the test set? (4 significant digits)\n",
    "\n",
    "from  sklearn.ensemble import GradientBoostingClassifier\n",
    "\n",
    "GBC=GradientBoostingClassifier(random_state=0, n_estimators=100, learning_rate=.5)\n",
    "GBC.fit(X_train_reduced, y_train)\n",
    "\n",
    "#test macro recall score\n",
    "test_pred = GBC.predict(X_test_reduced)\n",
    "\n",
    "print(\"Macro average test recall score: {:.5f}\".format(recall_score(y_test, test_pred, average=\"macro\")))"
   ]
  }
 ],
 "metadata": {
  "kernelspec": {
   "display_name": "Python 3",
   "language": "python",
   "name": "python3"
  },
  "language_info": {
   "codemirror_mode": {
    "name": "ipython",
    "version": 3
   },
   "file_extension": ".py",
   "mimetype": "text/x-python",
   "name": "python",
   "nbconvert_exporter": "python",
   "pygments_lexer": "ipython3",
   "version": "3.7.5"
  }
 },
 "nbformat": 4,
 "nbformat_minor": 2
}
